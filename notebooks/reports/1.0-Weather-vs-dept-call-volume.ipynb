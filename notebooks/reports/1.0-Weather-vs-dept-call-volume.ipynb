{
 "cells": [
  {
   "cell_type": "markdown",
   "metadata": {},
   "source": [
    "# Weather vs Call Volume\n",
    "\n",
    "The purpose of this exploration is to understand how call volume spikes in certain hours, and what \n",
    "causes it. This notebook is a cleaner retelling of the exploration that spans multiple notebooks.\n",
    "You can see the raw unedited explorations in the `notebooks/exploratory` folder, if you dare. This one is much easier to understand.\n",
    "\n",
    "## The Ambient Temperature Clue\n",
    "\n",
    "When I first started with this dataset I heard a rumor. I heard that ambient temperature was used in another major metropolitan area. According to my source, the ambient temperature alters the social behavior of a population when it reaches a certain range. \n",
    "\n",
    "I was curious if this trend could be observed in the San Francisco 911 call records. And so I began.\n",
    "\n",
    "***\n",
    "\n",
    "The path to actually find a database of temperature that was both detailed enough and also covered a healthy enough range of dates was harder than I anticipated. I'll skip this part of the journey, with just a summary that I looked at a number of APIs that provided weather data. Even when I decided on using the data from NOAA, it took some time to understand the differences between the handful of stations reporting weather information. One of the interesting parts was seeing where the stations were actually located, which seemed to encircle the city, but not actually provide data from inside.\n",
    "\n",
    "There were two important outcomes of this initial ambient temperature exploration. First, the fact that the temperature data was an hourly measurement compelled me to group the call records by hour. Second, there was not a readily-available relationship between temperature and quantity of calls or type of calls, although there are still plenty of things to look at.\n",
    "\n",
    "The first lesson is key though, because after grouping the data by the hour, I began cleaning it and looking for problems and also outliers. Outliers are great because they usually point to a step you forgot to add in your munging and cleaning steps of your pipeline, but sometimes also give clues about bright spots and trends in your data.\n",
    "\n",
    "Let's load the data and the libraries and look at the distribution of number of calls by hour."
   ]
  },
  {
   "cell_type": "code",
   "execution_count": 2,
   "metadata": {
    "collapsed": true
   },
   "outputs": [],
   "source": [
    "from __future__ import division, print_function\n",
    "import json\n",
    "import numpy as np\n",
    "from datetime import datetime\n",
    "import pandas as pd\n",
    "import matplotlib.pyplot as plt\n",
    "%matplotlib inline\n",
    "import seaborn as sns"
   ]
  },
  {
   "cell_type": "code",
   "execution_count": 3,
   "metadata": {
    "collapsed": true
   },
   "outputs": [],
   "source": [
    "query_url = 'https://data.sfgov.org/resource/wbb6-uh78.json?$order=close_dttm%20DESC&$offset={}&$limit={}'\n",
    "offset = 0\n",
    "limit = 100000\n",
    "fdf = pd.read_json(query_url.format(offset, limit))"
   ]
  },
  {
   "cell_type": "code",
   "execution_count": 4,
   "metadata": {
    "collapsed": true
   },
   "outputs": [],
   "source": [
    "def clean_fire_data(df):\n",
    "    cols_to_drop = [\"automatic_extinguishing_sytem_failure_reason\",\n",
    "                \"automatic_extinguishing_sytem_type\",\n",
    "                \"battalion\",\n",
    "                \"box\",\n",
    "                \"call_number\",\n",
    "                \"detector_effectiveness\",\n",
    "                \"detector_failure_reason\",\n",
    "                \"ems_personnel\",\n",
    "                \"ems_units\",\n",
    "                \"exposure_number\",\n",
    "                \"first_unit_on_scene\",\n",
    "                \"ignition_factor_secondary\",\n",
    "                \"mutual_aid\",\n",
    "                \"no_flame_spead\",\n",
    "                \"other_personnel\",\n",
    "                \"other_units\",\n",
    "                \"station_area\",\n",
    "                \"supervisor_district\"]\n",
    "    df = df.drop(cols_to_drop, axis=1)\n",
    "    for col in df.columns:\n",
    "        if 'dttm' in col:\n",
    "            df[col] = pd.to_datetime(df[col])\n",
    "    return df"
   ]
  },
  {
   "cell_type": "code",
   "execution_count": 5,
   "metadata": {
    "collapsed": true
   },
   "outputs": [],
   "source": [
    "fdf = clean_fire_data(fdf)"
   ]
  },
  {
   "cell_type": "code",
   "execution_count": 6,
   "metadata": {
    "collapsed": true
   },
   "outputs": [],
   "source": [
    "# we'll make a Series where the incidents are grouped by hour\n",
    "gdf = fdf.rename(columns={'alarm_dttm':'dttm'}).set_index('dttm').groupby(pd.TimeGrouper('H')).count()['incident_number']"
   ]
  },
  {
   "cell_type": "code",
   "execution_count": 7,
   "metadata": {
    "collapsed": false
   },
   "outputs": [
    {
     "data": {
      "image/png": "[encoded data removed]",
      "text/plain": [
       "<matplotlib.figure.Figure at 0x150392f90>"
      ]
     },
     "metadata": {},
     "output_type": "display_data"
    }
   ],
   "source": [
    "sns.distplot(gdf, hist=True, rug=True);"
   ]
  },
  {
   "cell_type": "markdown",
   "metadata": {},
   "source": [
    "When I look at distributions, I really appreciate the ability for Seaborn to overlay the kernel density estimate as well as the rug plot, because it makes it much easier to see outliers that may not otherwise appear. In this case the histogram would have missed it, but the cluster of data points above 55 was sufficient enough in quantity to even cause the line of the KDE to ripple a bit. However, the KDE and histogram would have missed the single data point that appears to have about 48 incident numbers reported in a single hour.\n",
    "\n",
    "Another way of quickly checking this sort of data is to use the describe function, which we'll do now in order to not only verify the numerical values of our biggest outliers, but also pull up those specific records so we can see what the heck is going on. At this point it's unclear whether we are dealing with an error in the data, or a valid data point."
   ]
  },
  {
   "cell_type": "code",
   "execution_count": 8,
   "metadata": {
    "collapsed": false,
    "scrolled": true
   },
   "outputs": [
    {
     "data": {
      "text/plain": [
       "count    29879.000000\n",
       "mean         3.346832\n",
       "std          2.327126\n",
       "min          0.000000\n",
       "25%          2.000000\n",
       "50%          3.000000\n",
       "75%          5.000000\n",
       "max         58.000000\n",
       "Name: incident_number, dtype: float64"
      ]
     },
     "execution_count": 8,
     "metadata": {},
     "output_type": "execute_result"
    }
   ],
   "source": [
    "gdf.describe()"
   ]
  },
  {
   "cell_type": "markdown",
   "metadata": {},
   "source": [
    "In the above, you'll see the mean is at 3.3 incidents per hour, the median at 3 incident per hour, and a standard deviation of 2.3 incidents. That suggests that the maximimum value in this Series of 58 incidents reported in a single hour is over 20 standard deviations above the mean. At this point I was willing to bet money that this was an error. Often times when a dataset is created, especially with excel and .csv files, someone adds a row that represents the total or some other aggregate of all the other datapoints. When I first saw this I thought that was what we were seeing. Let's take a closer look. I am lazy, so to save time I like to use the max() function to quickly reference the maximum value datapoint. We will also reset the index so that we can use the datettime field and treat this as a dataframe, because it's fun to do."
   ]
  },
  {
   "cell_type": "code",
   "execution_count": 9,
   "metadata": {
    "collapsed": false
   },
   "outputs": [
    {
     "data": {
      "text/html": [
       "<div>\n",
       "<table border=\"1\" class=\"dataframe\">\n",
       "  <thead>\n",
       "    <tr style=\"text-align: right;\">\n",
       "      <th></th>\n",
       "      <th>dttm</th>\n",
       "      <th>incident_number</th>\n",
       "    </tr>\n",
       "  </thead>\n",
       "  <tbody>\n",
       "    <tr>\n",
       "      <th>15296</th>\n",
       "      <td>2014-12-11 07:00:00</td>\n",
       "      <td>58</td>\n",
       "    </tr>\n",
       "  </tbody>\n",
       "</table>\n",
       "</div>"
      ],
      "text/plain": [
       "                     dttm  incident_number\n",
       "15296 2014-12-11 07:00:00               58"
      ]
     },
     "execution_count": 9,
     "metadata": {},
     "output_type": "execute_result"
    }
   ],
   "source": [
    "# I'll break out the mask so it's easier to understand\n",
    "# the mask will filter for only records where the incident_number (count) == the max value of the dataset\n",
    "mask = (gdf.reset_index().incident_number == (gdf.max()))\n",
    "gdf.reset_index()[mask]"
   ]
  },
  {
   "cell_type": "markdown",
   "metadata": {},
   "source": [
    "OK, so is this an error? How can we tell? Well, we can go back to the original dataframe, and look at the date in question. What was going on during the hour of 7 am that got everyone so excited? Or, is this some weird error? Let's take a look at the types of incidents that were recorded during that time frame."
   ]
  },
  {
   "cell_type": "code",
   "execution_count": 10,
   "metadata": {
    "collapsed": false
   },
   "outputs": [
    {
     "data": {
      "text/plain": [
       "(58, 44)"
      ]
     },
     "execution_count": 10,
     "metadata": {},
     "output_type": "execute_result"
    }
   ],
   "source": [
    "# fdf[fdf.alarm_dttm >= gdf.reset_index()[mask]['dttm']]\n",
    "strange_dttm = gdf.reset_index()[(gdf.reset_index().incident_number == (gdf.max()))]['dttm'].iloc[0]\n",
    "# this will give us a temporary frame including only those calls during the hour it should be 58 records long\n",
    "temp_df = fdf[(fdf.alarm_dttm >= strange_dttm) & (fdf.alarm_dttm <= strange_dttm + pd.tslib.Timedelta(hours=1))]\n",
    "temp_df.shape"
   ]
  },
  {
   "cell_type": "markdown",
   "metadata": {},
   "source": [
    "Now that we have a dataframe that represents each individual call that comprised our outlier, let's look at what kind of calls we had coming in that hour, shall we?"
   ]
  },
  {
   "cell_type": "code",
   "execution_count": 11,
   "metadata": {
    "collapsed": false
   },
   "outputs": [
    {
     "data": {
      "text/plain": [
       "353 removal of victim(s) from stalled elevator          10\n",
       "745 alarm system activation, no fire - unintentional     9\n",
       "730 system malfunction, other                            5\n",
       "440 electrical  wiring/equipment problem, other          5\n",
       "444 power line down                                      5\n",
       "740 unintentional transmission of alarm, other           3\n",
       "735 alarm system sounded due to malfunction              3\n",
       "520 water problem, other                                 3\n",
       "550 public service assistance, other                     2\n",
       "700 false alarm or false call, other                     2\n",
       "500 service call, other                                  2\n",
       "151 outside rubbish, trash or waste fire                 1\n",
       "445 arcing, shorted electrical equipment                 1\n",
       "800 severe weather or natural disaster, other            1\n",
       "711 municipal alarm system, malicious false alarm        1\n",
       "652 steam, vapor, fog or dust thought to be smoke        1\n",
       "400 hazardous condition, other                           1\n",
       "531 smoke or odor removal                                1\n",
       "812 flood assessment                                     1\n",
       "554 assist invalid                                       1\n",
       "Name: primary_situation, dtype: int64"
      ]
     },
     "execution_count": 11,
     "metadata": {},
     "output_type": "execute_result"
    }
   ],
   "source": [
    "temp_df.primary_situation.value_counts(dropna=False)"
   ]
  },
  {
   "cell_type": "markdown",
   "metadata": {},
   "source": [
    "### WTF\n",
    "\n",
    "What the heck was going on? In a dataset where the average number of calls per hour was 2-3, we suddenly have ten calls in a single hour exclusively about removing victims from a stalled elevator! Is this a single building? Let's see...."
   ]
  },
  {
   "cell_type": "code",
   "execution_count": 12,
   "metadata": {
    "collapsed": false
   },
   "outputs": [
    {
     "data": {
      "text/plain": [
       "2001 Van Ness Avenue    2\n",
       "818 Van Ness Avenue     1\n",
       "965 Sutter St 6th Fl    1\n",
       "415 Ofarrell Street     1\n",
       "654 Grove Street        1\n",
       "2001 Pierce Street      1\n",
       "301 Pine Street         1\n",
       "430 Turk Street         1\n",
       "1770 Pacific Av 2nd     1\n",
       "Name: address, dtype: int64"
      ]
     },
     "execution_count": 12,
     "metadata": {},
     "output_type": "execute_result"
    }
   ],
   "source": [
    "temp_df[temp_df.primary_situation == temp_df.primary_situation.value_counts(dropna=False).index[0]].address.value_counts(dropna=False)"
   ]
  },
  {
   "cell_type": "markdown",
   "metadata": {},
   "source": [
    "Huh. OK, so this was not the case of one giant elevator and ten people with cell phones calling 911 because somebody cut the cheese. Multiple buildings in a single hour had the need to call the SFFD for an elevator rescue. \n",
    "\n",
    "Looking at the above data of the various primary situation recods, can you guess yet what the cause of this spike was?\n",
    "\n",
    "Let me show you what a quick Google search for news on that date revealed...\n",
    "\n",
    "\n",
    "## HEADLINE: Rainstorm Turns the San Francisco Area From Arid to Soggy in Hours\n",
    "\n",
    "\n",
    "You can read about it [here](http://www.nytimes.com/2014/12/12/us/california-storm-pineapple-express-san-francisco-braces.html?_r=0)\n",
    "\n",
    "![pic of kids enjoying Dec 2014 flood](http://www.gannett-cdn.com/-mm-/7eb5ee01dc0b674cc6d0f0472270b998bc23b36b/c=252-0-3542-2474&r=x513&c=680x510/local/-/media/2014/12/11/DetroitNews/DetroitNews/635539103606182231-storms010.JPG)\n",
    "\n",
    "***\n",
    "\n",
    "I always knew that Californians couldn't drive in the rain. Apparently we can't elevator in the rain either... Joking aside, this isn't the first time the emergency services of San Francisco have been overburdened by wet weather. Further exploration into looking at the outliers in the dataset show another storm that happened a couple months later that also caused a major spike in emergency services demand. Power lines, electrical wiring issues, and severe weather or natural disaster calls appear to be a burden on our city services.\n",
    "\n",
    "A quick Google search for \"February 06 2015 Power\" reveals [this news](http://sanfrancisco.cbslocal.com/2015/02/06/55000-lose-power-during-bay-area-storm-thousands-remain-in-the-dark-pge-east-bay-north-bay-peninsula-south-bay-san-francisco/) story:\n",
    "\n",
    "> Nearly 15,000 PG&E customers in the Bay Area were without power Friday afternoon because of the high winds and rain passing through the area, PG&E officials said.\n",
    "\n",
    "![Image of downed tree](https://pbs.twimg.com/media/B9MpHOCCIAAOW81.jpg:medium)\n",
    "\n",
    "\n",
    "***"
   ]
  },
  {
   "cell_type": "markdown",
   "metadata": {},
   "source": [
    "### Outliers \n",
    "\n",
    "There are a couple of ways you can look at the highest values of your data. One simple way is sort the grouped by hour Series and then looking at each data point starting from the highest to the lowest. \n",
    "\n",
    "Another way is to look at all of your outliers. This latter method is probably smarter because you want to see if there are still errors hidden in your data. Normally I'm a big fan of outliers and would go this direction, but I'm lazy and will save that for a separate post.\n",
    "\n",
    "So let's get lazy and look at the sorted list of the highest alues in our Series."
   ]
  },
  {
   "cell_type": "code",
   "execution_count": 13,
   "metadata": {
    "collapsed": false
   },
   "outputs": [
    {
     "data": {
      "text/plain": [
       "dttm\n",
       "2014-12-11 07:00:00    58\n",
       "2014-12-03 03:00:00    47\n",
       "2014-12-11 08:00:00    30\n",
       "2014-12-30 17:00:00    30\n",
       "2016-03-05 20:00:00    26\n",
       "2015-12-13 09:00:00    23\n",
       "2014-12-30 16:00:00    23\n",
       "2015-02-06 18:00:00    22\n",
       "2014-12-11 10:00:00    21\n",
       "2014-12-11 09:00:00    18\n",
       "Name: incident_number, dtype: int64"
      ]
     },
     "execution_count": 13,
     "metadata": {},
     "output_type": "execute_result"
    }
   ],
   "source": [
    "gdf.sort_values(ascending=False).head(10)"
   ]
  },
  {
   "cell_type": "markdown",
   "metadata": {},
   "source": [
    "In the above sample of top 10 hours in terms of call volume, December 11 clearly was a popular morning. What's left if we filter those out? In that same month in 2014, there was a spike on December 3, and also on December 30. Then later in 2015 a spike on February 6 2015 as was pictured above. More recently, there was a spike on March 5 2016. Just for fun let's take a quick look at these new dates to see if there's anything interesting there."
   ]
  },
  {
   "cell_type": "code",
   "execution_count": 14,
   "metadata": {
    "collapsed": false,
    "scrolled": false
   },
   "outputs": [
    {
     "name": "stdout",
     "output_type": "stream",
     "text": [
      "\n",
      "2014-12-11 07:00:00\n",
      "353 removal of victim(s) from stalled elevator          10\n",
      "745 alarm system activation, no fire - unintentional     9\n",
      "730 system malfunction, other                            5\n",
      "440 electrical  wiring/equipment problem, other          5\n",
      "444 power line down                                      5\n",
      "740 unintentional transmission of alarm, other           3\n",
      "735 alarm system sounded due to malfunction              3\n",
      "520 water problem, other                                 3\n",
      "550 public service assistance, other                     2\n",
      "700 false alarm or false call, other                     2\n",
      "500 service call, other                                  2\n",
      "151 outside rubbish, trash or waste fire                 1\n",
      "445 arcing, shorted electrical equipment                 1\n",
      "800 severe weather or natural disaster, other            1\n",
      "711 municipal alarm system, malicious false alarm        1\n",
      "652 steam, vapor, fog or dust thought to be smoke        1\n",
      "400 hazardous condition, other                           1\n",
      "531 smoke or odor removal                                1\n",
      "812 flood assessment                                     1\n",
      "554 assist invalid                                       1\n",
      "Name: primary_situation, dtype: int64\n",
      "\n",
      "2014-12-03 03:00:00\n",
      "520 water problem, other                            15\n",
      "812 flood assessment                                13\n",
      "733 smoke detector activation due to malfunction     4\n",
      "521 water evacuation                                 4\n",
      "700 false alarm or false call, other                 3\n",
      "735 alarm system sounded due to malfunction          2\n",
      "554 assist invalid                                   2\n",
      "744 detector activation, no fire - unintentional     1\n",
      "800 severe weather or natural disaster, other        1\n",
      "740 unintentional transmission of alarm, other       1\n",
      "522 water or steam leak                              1\n",
      "Name: primary_situation, dtype: int64\n",
      "\n",
      "2014-12-11 08:00:00\n",
      "444 power line down                                       5\n",
      "353 removal of victim(s) from stalled elevator            4\n",
      "812 flood assessment                                      2\n",
      "745 alarm system activation, no fire - unintentional      2\n",
      "733 smoke detector activation due to malfunction          2\n",
      "730 system malfunction, other                             2\n",
      "735 alarm system sounded due to malfunction               2\n",
      "440 electrical  wiring/equipment problem, other           2\n",
      "211 overpressure rupture of steam pipe or pipeline        1\n",
      "743 smoke detector activation, no fire - unintentional    1\n",
      "554 assist invalid                                        1\n",
      "800 severe weather or natural disaster, other             1\n",
      "321 ems call, excluding vehicle accident with injury      1\n",
      "445 arcing, shorted electrical equipment                  1\n",
      "711 municipal alarm system, malicious false alarm         1\n",
      "651 smoke scare, odor of smoke                            1\n",
      "531 smoke or odor removal                                 1\n",
      "Name: primary_situation, dtype: int64\n",
      "\n",
      "2014-12-30 17:00:00\n",
      "800 severe weather or natural disaster, other           6\n",
      "500 service call, other                                 5\n",
      "444 power line down                                     3\n",
      "460 accident, potential accident, other                 2\n",
      "700 false alarm or false call, other                    2\n",
      "400 hazardous condition, other                          2\n",
      "311 medical assist, assist ems crew                     1\n",
      "710 malicious, mischievous false call, other            1\n",
      "440 electrical  wiring/equipment problem, other         1\n",
      "600 good intent call, other                             1\n",
      "711 municipal alarm system, malicious false alarm       1\n",
      "100 fire, other                                         1\n",
      "522 water or steam leak                                 1\n",
      "622 no incident found on arrival at dispatch address    1\n",
      "813 wind storm, tornado/hurricane assessment            1\n",
      "550 public service assistance, other                    1\n",
      "Name: primary_situation, dtype: int64\n",
      "\n",
      "2016-03-05 20:00:00\n",
      "444 power line down                                     3\n",
      "813 wind storm, tornado/hurricane assessment            3\n",
      "400 hazardous condition, other                          3\n",
      "440 electrical  wiring/equipment problem, other         2\n",
      "735 alarm system sounded due to malfunction             2\n",
      "800 severe weather or natural disaster, other           2\n",
      "550 public service assistance, other                    2\n",
      "441 heat from short circuit (wiring), defective/worn    1\n",
      "744 detector activation, no fire - unintentional        1\n",
      "520 water problem, other                                1\n",
      "500 service call, other                                 1\n",
      "460 accident, potential accident, other                 1\n",
      "733 smoke detector activation due to malfunction        1\n",
      "740 unintentional transmission of alarm, other          1\n",
      "815 severe weather or natural disaster standby          1\n",
      "551 assist police or other governmental agency          1\n",
      "Name: primary_situation, dtype: int64\n",
      "\n",
      "2015-12-13 09:00:00\n",
      "700 false alarm or false call, other                 3\n",
      "444 power line down                                  2\n",
      "500 service call, other                              2\n",
      "460 accident, potential accident, other              2\n",
      "733 smoke detector activation due to malfunction     2\n",
      "812 flood assessment                                 2\n",
      "730 system malfunction, other                        1\n",
      "744 detector activation, no fire - unintentional     1\n",
      "311 medical assist, assist ems crew                  1\n",
      "710 malicious, mischievous false call, other         1\n",
      "520 water problem, other                             1\n",
      "735 alarm system sounded due to malfunction          1\n",
      "711 municipal alarm system, malicious false alarm    1\n",
      "113 cooking fire, confined to container              1\n",
      "400 hazardous condition, other                       1\n",
      "554 assist invalid                                   1\n",
      "Name: primary_situation, dtype: int64\n",
      "\n",
      "2014-12-30 16:00:00\n",
      "500 service call, other                                5\n",
      "550 public service assistance, other                   3\n",
      "444 power line down                                    2\n",
      "700 false alarm or false call, other                   2\n",
      "200 overpressure rupture, explosion, overheat other    1\n",
      "311 medical assist, assist ems crew                    1\n",
      "440 electrical  wiring/equipment problem, other        1\n",
      "412 gas leak (natural gas or lpg)                      1\n",
      "813 wind storm, tornado/hurricane assessment           1\n",
      "460 accident, potential accident, other                1\n",
      "800 severe weather or natural disaster, other          1\n",
      "900 special type of incident, other                    1\n",
      "151 outside rubbish, trash or waste fire               1\n",
      "740 unintentional transmission of alarm, other         1\n",
      "551 assist police or other governmental agency         1\n",
      "Name: primary_situation, dtype: int64\n",
      "\n",
      "2015-02-06 18:00:00\n",
      "444 power line down                                     5\n",
      "440 electrical  wiring/equipment problem, other         3\n",
      "622 no incident found on arrival at dispatch address    3\n",
      "813 wind storm, tornado/hurricane assessment            2\n",
      "800 severe weather or natural disaster, other           2\n",
      "322 motor vehicle accident with injuries                1\n",
      "500 service call, other                                 1\n",
      "600 good intent call, other                             1\n",
      "400 hazardous condition, other                          1\n",
      "553 public service                                      1\n",
      "118 trash or rubbish fire, contained                    1\n",
      "551 assist police or other governmental agency          1\n",
      "Name: primary_situation, dtype: int64\n",
      "\n",
      "2014-12-11 10:00:00\n",
      "745 alarm system activation, no fire - unintentional      4\n",
      "353 removal of victim(s) from stalled elevator            3\n",
      "735 alarm system sounded due to malfunction               3\n",
      "444 power line down                                       3\n",
      "651 smoke scare, odor of smoke                            1\n",
      "700 false alarm or false call, other                      1\n",
      "554 assist invalid                                        1\n",
      "520 water problem, other                                  1\n",
      "555 defective elevator, no occupants                      1\n",
      "550 public service assistance, other                      1\n",
      "743 smoke detector activation, no fire - unintentional    1\n",
      "113 cooking fire, confined to container                   1\n",
      "Name: primary_situation, dtype: int64\n",
      "\n",
      "2014-12-11 09:00:00\n",
      "444 power line down                                     7\n",
      "360 water & ice-related rescue, other                   1\n",
      "730 system malfunction, other                           1\n",
      "353 removal of victim(s) from stalled elevator          1\n",
      "311 medical assist, assist ems crew                     1\n",
      "550 public service assistance, other                    1\n",
      "440 electrical  wiring/equipment problem, other         1\n",
      "700 false alarm or false call, other                    1\n",
      "735 alarm system sounded due to malfunction             1\n",
      "745 alarm system activation, no fire - unintentional    1\n",
      "740 unintentional transmission of alarm, other          1\n",
      "733 smoke detector activation due to malfunction        1\n",
      "Name: primary_situation, dtype: int64\n"
     ]
    }
   ],
   "source": [
    "for weirdo in gdf.sort_values(ascending=False).head(10).index:\n",
    "    # we'll skip December 11, we know what happened there\n",
    "    print(\"\\n{}\".format(weirdo))\n",
    "    temp_df = fdf[(fdf.alarm_dttm >= weirdo) & (fdf.alarm_dttm <= weirdo + pd.tslib.Timedelta(hours=1))]\n",
    "    print(temp_df.primary_situation.value_counts(dropna=False))"
   ]
  },
  {
   "cell_type": "markdown",
   "metadata": {},
   "source": [
    "As you can see these are mostly alarm system malfunctions or calls related to the issue of severe weather."
   ]
  },
  {
   "cell_type": "markdown",
   "metadata": {
    "collapsed": true
   },
   "source": [
    "## Where we go from here\n",
    "\n",
    "There are a number of next steps to take here. First of all, it is worth a conversation with the city to see if there might be a way to make this more manageable. Perhaps on paper and in this database, it looks worse than it actually is. The database may suggest that the resources are getting overwhelmed, but the SFFD may already have systems in place to make bad weather days a piece of cake.\n",
    "\n",
    "I'm also very curious to find out what can be done to cut down on the false alarms. It seems crazy that in this day and age, a power outage should trigger a fire department emergency by design. That seems like a flaw that a little technology could correct. "
   ]
  },
  {
   "cell_type": "code",
   "execution_count": null,
   "metadata": {
    "collapsed": true
   },
   "outputs": [],
   "source": []
  }
 ],
 "metadata": {
  "kernelspec": {
   "display_name": "Python 2",
   "language": "python",
   "name": "python2"
  },
  "language_info": {
   "codemirror_mode": {
    "name": "ipython",
    "version": 2
   },
   "file_extension": ".py",
   "mimetype": "text/x-python",
   "name": "python",
   "nbconvert_exporter": "python",
   "pygments_lexer": "ipython2",
   "version": "2.7.10"
  }
 },
 "nbformat": 4,
 "nbformat_minor": 0
}
