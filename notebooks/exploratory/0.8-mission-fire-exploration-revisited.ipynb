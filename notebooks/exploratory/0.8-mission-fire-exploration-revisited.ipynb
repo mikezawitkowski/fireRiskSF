{
 "cells": [
  {
   "cell_type": "code",
   "execution_count": 6,
   "metadata": {
    "collapsed": true
   },
   "outputs": [],
   "source": [
    "\"\"\"\n",
    "author: mikezawitkowski\n",
    "created on 7/17/2016\n",
    "\"\"\"\n",
    "from __future__ import division, print_function\n",
    "import pandas as pd\n",
    "%matplotlib inline\n",
    "import seaborn as sns"
   ]
  },
  {
   "cell_type": "markdown",
   "metadata": {},
   "source": [
    "# Mission Fire Exploration\n",
    "\n",
    "\n",
    "At the time that this was created, there is a lot of press going on right now about Mission district fires, and gossip that maybe it's the cause of landlords or some arsonist trying to get more money for older properties. This notebook captures some\n",
    "initial thoughts about this.\n",
    "\n",
    "This exploration troubles me, because I don't see an upside to producing this, however I see quite a few downsides if I get this wrong.\n",
    "\n",
    "This seems to be a very politically charged topic at the moment, and there are a lot of people who are claiming things and getting carried away with facts that may or may not be true. \n",
    "\n",
    "I'm not saying that one side or another is more right or wrong, but I'm confident that in the end, the data will prevail. \n",
    "\n",
    "In the meantime, just as part of this exploration, I was curious to see if I could verify some of the claims that are being put forth, and figure out whether there are some other explanations, and just wrap my head around the problem and the data being used."
   ]
  },
  {
   "cell_type": "code",
   "execution_count": 7,
   "metadata": {
    "collapsed": false
   },
   "outputs": [],
   "source": [
    "query_url = 'https://data.sfgov.org/resource/wbb6-uh78.json?$order=close_dttm%20DESC&$offset={}&$limit={}'\n",
    "# query_url = \"https://data.sfgov.org/resource/wbb6-uh78.json?$where=alarm_dttm>='2013-02-12 04:52:17'&$order=close_dttm%20DESC\"\n",
    "# query_url = \"https://data.sfgov.org/resource/wbb6-uh78.json?$where=alarm_dttm>='2013-02-12 04:52:17'\"\n",
    "\n",
    "offset = 0\n",
    "limit = 1000000\n",
    "df = pd.read_json(query_url.format(offset, limit))\n",
    "# df = pd.read_json(query_url)\n"
   ]
  },
  {
   "cell_type": "code",
   "execution_count": 3,
   "metadata": {
    "collapsed": true
   },
   "outputs": [],
   "source": [
    "cols_to_drop = [\"automatic_extinguishing_sytem_failure_reason\",\n",
    "                \"automatic_extinguishing_sytem_type\",\n",
    "                \"battalion\",\n",
    "                \"box\",\n",
    "                \"call_number\",\n",
    "                \"detector_effectiveness\",\n",
    "                \"detector_failure_reason\",\n",
    "                \"ems_personnel\",\n",
    "                \"ems_units\",\n",
    "                \"exposure_number\",\n",
    "                \"first_unit_on_scene\",\n",
    "                \"ignition_factor_secondary\",\n",
    "                \"mutual_aid\",\n",
    "                \"no_flame_spead\",\n",
    "                \"other_personnel\",\n",
    "                \"other_units\",\n",
    "                \"station_area\",\n",
    "                \"supervisor_district\"]\n",
    "df = df.drop(cols_to_drop, axis=1)"
   ]
  },
  {
   "cell_type": "code",
   "execution_count": 4,
   "metadata": {
    "collapsed": true
   },
   "outputs": [],
   "source": [
    "for col in df.columns:\n",
    "    if 'dttm' in col:\n",
    "        df[col] = pd.to_datetime(df[col])"
   ]
  },
  {
   "cell_type": "code",
   "execution_count": 5,
   "metadata": {
    "collapsed": false
   },
   "outputs": [
    {
     "data": {
      "text/plain": [
       "Timestamp('2013-02-12 04:52:17')"
      ]
     },
     "execution_count": 5,
     "metadata": {},
     "output_type": "execute_result"
    }
   ],
   "source": [
    "df.alarm_dttm.min()  # The earliest timestamp of this dataset is 2013-02-12 04:52:17"
   ]
  },
  {
   "cell_type": "code",
   "execution_count": 6,
   "metadata": {
    "collapsed": false
   },
   "outputs": [
    {
     "data": {
      "text/plain": [
       "NaN         96332\n",
       " 50           487\n",
       " 1000         252\n",
       " 1            249\n",
       " 10           239\n",
       " 500          234\n",
       " 100          217\n",
       " 5000         206\n",
       " 10000        131\n",
       " 2000         129\n",
       " 5            127\n",
       " 0            113\n",
       " 25            84\n",
       " 200           82\n",
       " 20000         71\n",
       " 20            60\n",
       " 3000          56\n",
       " 1500          53\n",
       " 15000         53\n",
       " 50000         51\n",
       " 25000         48\n",
       " 750           40\n",
       " 2500          40\n",
       " 100000        38\n",
       " 300           30\n",
       " 30000         24\n",
       " 30            22\n",
       " 75000         18\n",
       " 250           18\n",
       " 8000          17\n",
       "            ...  \n",
       " 6025           1\n",
       " 5533           1\n",
       " 2900000        1\n",
       " 5429           1\n",
       " 5400           1\n",
       " 5299           1\n",
       " 5100           1\n",
       " 4999           1\n",
       " 4710           1\n",
       " 4100           1\n",
       " 8600           1\n",
       " 8700           1\n",
       " 140000         1\n",
       " 9129           1\n",
       " 16200          1\n",
       " 14993          1\n",
       " 14642          1\n",
       " 14609          1\n",
       " 14000          1\n",
       " 800000         1\n",
       " 12400          1\n",
       " 11900          1\n",
       " 11594          1\n",
       " 11000          1\n",
       " 10500          1\n",
       " 9841           1\n",
       " 9750           1\n",
       " 9500           1\n",
       " 9425           1\n",
       " 8328           1\n",
       "Name: estimated_property_loss, dtype: int64"
      ]
     },
     "execution_count": 6,
     "metadata": {},
     "output_type": "execute_result"
    }
   ],
   "source": [
    "df.estimated_property_loss.value_counts(dropna=False)"
   ]
  },
  {
   "cell_type": "code",
   "execution_count": 7,
   "metadata": {
    "collapsed": false
   },
   "outputs": [
    {
     "data": {
      "text/plain": [
       "(100000, 44)"
      ]
     },
     "execution_count": 7,
     "metadata": {},
     "output_type": "execute_result"
    }
   ],
   "source": [
    "df.shape"
   ]
  },
  {
   "cell_type": "code",
   "execution_count": 8,
   "metadata": {
    "collapsed": false
   },
   "outputs": [
    {
     "data": {
      "text/plain": [
       "96332"
      ]
     },
     "execution_count": 8,
     "metadata": {},
     "output_type": "execute_result"
    }
   ],
   "source": [
    "# So we have 100,000 rows of data, going all the way back to February 10, 2013\n",
    "# There is thoughts that there's a correlation with year and cost, especially in the mission\n",
    "df[df.estimated_property_loss.isnull()].__len__()"
   ]
  },
  {
   "cell_type": "code",
   "execution_count": 9,
   "metadata": {
    "collapsed": false
   },
   "outputs": [
    {
     "data": {
      "text/plain": [
       "0.96335"
      ]
     },
     "execution_count": 9,
     "metadata": {},
     "output_type": "execute_result"
    }
   ],
   "source": [
    "# of the 100,000 rows, 96,335 are null\n",
    "96335 / float(df.shape[0])"
   ]
  },
  {
   "cell_type": "code",
   "execution_count": 10,
   "metadata": {
    "collapsed": true
   },
   "outputs": [],
   "source": [
    "# wow, so where are these companies getting their data about the costs associated with fires?\n",
    "# it's not from the sfgov website. we'll need to table that and come back later."
   ]
  },
  {
   "cell_type": "code",
   "execution_count": 26,
   "metadata": {
    "collapsed": true
   },
   "outputs": [],
   "source": [
    "df['year'] = df.alarm_dttm.apply(lambda x: x.year)"
   ]
  },
  {
   "cell_type": "code",
   "execution_count": 11,
   "metadata": {
    "collapsed": true
   },
   "outputs": [],
   "source": [
    "temp_df = df[df.estimated_property_loss.notnull()]"
   ]
  },
  {
   "cell_type": "code",
   "execution_count": 12,
   "metadata": {
    "collapsed": false
   },
   "outputs": [
    {
     "data": {
      "text/plain": [
       "(3668, 44)"
      ]
     },
     "execution_count": 12,
     "metadata": {},
     "output_type": "execute_result"
    }
   ],
   "source": [
    "temp_df.shape"
   ]
  },
  {
   "cell_type": "code",
   "execution_count": 14,
   "metadata": {
    "collapsed": false
   },
   "outputs": [
    {
     "data": {
      "text/plain": [
       "year\n",
       "2013    19752714\n",
       "2014    64448534\n",
       "2015    33303221\n",
       "2016     8924772\n",
       "Name: estimated_property_loss, dtype: float64"
      ]
     },
     "execution_count": 14,
     "metadata": {},
     "output_type": "execute_result"
    }
   ],
   "source": [
    "temp_df.groupby('year').sum()['estimated_property_loss']"
   ]
  },
  {
   "cell_type": "markdown",
   "metadata": {},
   "source": [
    "According to wikipeda, the mission district falls into two zipcodes, 94103, 94110\n",
    "\n",
    "So let's look at just those zipcodes with the same grouping as above"
   ]
  },
  {
   "cell_type": "code",
   "execution_count": 15,
   "metadata": {
    "collapsed": false
   },
   "outputs": [
    {
     "data": {
      "text/plain": [
       "year\n",
       "2013     2671821\n",
       "2014     5100479\n",
       "2015    10665978\n",
       "2016     3649836\n",
       "Name: estimated_property_loss, dtype: float64"
      ]
     },
     "execution_count": 15,
     "metadata": {},
     "output_type": "execute_result"
    }
   ],
   "source": [
    "mask = ((temp_df.zipcode.notnull()) & (temp_df.zipcode.isin([94103, 94110])))\n",
    "temp_df[mask].groupby('year').sum()['estimated_property_loss']"
   ]
  },
  {
   "cell_type": "code",
   "execution_count": 16,
   "metadata": {
    "collapsed": true
   },
   "outputs": [],
   "source": [
    "# So based on the above data yes, the 2015 fires for those two zipcodes doubled, \n",
    "# and we can look into why, but could it be a symptom of population growth?"
   ]
  },
  {
   "cell_type": "code",
   "execution_count": 17,
   "metadata": {
    "collapsed": true
   },
   "outputs": [],
   "source": [
    "# this article http://sf.curbed.com/2016/7/1/12073544/mission-fires-arson-campos\n",
    "# said that there were 2,788 blazes... but that's wrong, it's 2,788 units impacted. \n",
    "# One blaze could impact multiple units\n",
    "# \n",
    "# This infographic shows number of units impacted by fire by neighborhood,\n",
    "# but isn't this seriously misleading? https://infogr.am/sf_fires_by_zip-3\n",
    "# \n",
    "# Ok, no seriously, I'm setting aside this mission research, because the upside for getting it right is low\n",
    "# but the downside for getting it wrong is very impactful. Not the sort of press we want\n",
    "# TODO: check this out and compare it to the data set\n",
    "# https://celestelecomptedotcom.files.wordpress.com/2015/04/15-04-05_wfs-greater-alarms-01-01-01-04-05-15.pdf"
   ]
  },
  {
   "cell_type": "markdown",
   "metadata": {},
   "source": [
    "## Initial Conclusions\n",
    "\n",
    "Just reading through the various articles, it seems that there's quite a bit of misinformation, and misuse of the dataset that is available for estimating fires. sf.curbed.com is saying there were 2,788 blazes in the Mission district over the full time period, but actually it's 2,788 units that were impacted. It could simply be a fact of there being a higher population density in that area, or age of buildings. There's a lot of reasons that fires could be higher in the Mission than in other parts of the city.\n",
    "\n",
    "However, I see a huge glaring problem in trying to make estimates regarding property damage values, and that is because 90% of the data points and calls for service to the fire department have no damage estimates listed. Yes, it is true that in 2014 to 2015 the estimated property loss had doubled, but let's take a little closer look, shall we?"
   ]
  },
  {
   "cell_type": "code",
   "execution_count": 25,
   "metadata": {
    "collapsed": false
   },
   "outputs": [
    {
     "data": {
      "text/plain": [
       "year\n",
       "2014    5100479\n",
       "Name: estimated_property_loss, dtype: float64"
      ]
     },
     "execution_count": 25,
     "metadata": {},
     "output_type": "execute_result"
    }
   ],
   "source": [
    "mask = ((temp_df.zipcode.notnull()) & \n",
    "        (temp_df.zipcode.isin([94103, 94110])) & \n",
    "        (temp_df.year == 2014))\n",
    "temp_df[mask].groupby('year').sum()['estimated_property_loss']"
   ]
  },
  {
   "cell_type": "markdown",
   "metadata": {},
   "source": [
    "### Disclaimers from the Fire Marshal\n",
    "\n",
    "https://celestelecompte.com/2015/04/25/open-data-fire-incident-report-san-francisco-2004-2015/\n",
    "\n",
    "I noticed a quote from that original letter: \n",
    "\n",
    ">IMPORTANT – PLEASE NOTE: Entries contained in the attached report (including all monetary fire loss estimates) are intended for the sole use of the State Fire Marshal. Estimations and evaluations represent “most likely” and “most probable” cause and effect. Any representation as to the validity or accuracy of reported conditions (including all monetary fire loss estimates) outside the State Fire Marshal’s office is neither intended nor implied.\n",
    "\n",
    "When this data was requested, the response letter was explicit about the fact that the estimates were for internal use, and likely erroneous, and here we are using those estimates to claim that the cost of fires has gotten out of control. \n",
    "\n",
    "So what do we do? We get all up in arms about a chart that somebody made about how the financial numbers are so much higher for the Mission:\n",
    "\n",
    "https://infogr.am/YCxOktys5EEYfx8r\n",
    "\n",
    "In case you missed it, that link to the infogr.am is titled \"Financial Losses: Dramatic Increase in the Mission\""
   ]
  },
  {
   "cell_type": "markdown",
   "metadata": {},
   "source": [
    "### Definition of The Mission\n",
    "\n",
    "Wikipedia gives me two zipcodes, and using that, I'm able to get a rough guess of the same doubling effect of costs.\n",
    "\n",
    "This [other](http://www.sfbos.org/Modules/ShowDocument.aspx?documentid=54068) document has a different, more specific definition of the Mission:\n",
    "\n",
    "> The Mission District is defined for purposes of this report as the area bounded roughly by Market Street, Valencia\n",
    "Street, Cesar Chavez Street, U.S. 101, 23rd Street, Hampshire Street, 17th Street, Vermont Street, Division Street,\n",
    "and 11th Street. These boundaries correspond to Census tracts 177, 201, 208, 209, 228.01, 228.03, 228.09, 229.02,\n",
    "and 229.03."
   ]
  },
  {
   "cell_type": "code",
   "execution_count": 27,
   "metadata": {
    "collapsed": false
   },
   "outputs": [
    {
     "data": {
      "text/plain": [
       "year\n",
       "2013    19752714\n",
       "2014    64448534\n",
       "2015    33303221\n",
       "2016     8924772\n",
       "Name: estimated_property_loss, dtype: float64"
      ]
     },
     "execution_count": 27,
     "metadata": {},
     "output_type": "execute_result"
    }
   ],
   "source": [
    "mask = ((df.estimated_property_loss.notnull()))\n",
    "sns.df[mask].groupby('year').sum()['estimated_property_loss']"
   ]
  },
  {
   "cell_type": "code",
   "execution_count": 28,
   "metadata": {
    "collapsed": true
   },
   "outputs": [],
   "source": [
    "# So based on the above data yes, the 2015 fires for those two zipcodes doubled, \n",
    "# and we can look into why, but could it be a symptom of population growth?\n",
    "# according to the document mentioned above and the report, it says that the population size shrunk. OK... \n",
    "# but the data that is being looked at is a HUGE period. There was a census report in 2000, and then another one \n",
    "# that's a large bucket of 2009-2013. The change reported was a 9% decrease, not exactly a huge boom.\n",
    "# My next theory is that the reason that the cost increased is simply that they got better about capturing records\n",
    "# for certain areas"
   ]
  },
  {
   "cell_type": "code",
   "execution_count": 29,
   "metadata": {
    "collapsed": true
   },
   "outputs": [],
   "source": [
    "# Let's try a little experiment\n",
    "# let's look at which fire areas are better at keeping records, shall we?\n",
    "df['loss_recorded'] = 0"
   ]
  },
  {
   "cell_type": "code",
   "execution_count": 30,
   "metadata": {
    "collapsed": true
   },
   "outputs": [],
   "source": [
    "mask = ((df.estimated_property_loss.notnull()))\n",
    "df.loc[mask, 'loss_recorded'] = 1"
   ]
  },
  {
   "cell_type": "code",
   "execution_count": 41,
   "metadata": {
    "collapsed": false
   },
   "outputs": [],
   "source": [
    "mask = ((df.zipcode.notnull()))\n",
    "zipgroup = df[mask].groupby(['zipcode'])\n"
   ]
  },
  {
   "cell_type": "code",
   "execution_count": 66,
   "metadata": {
    "collapsed": false
   },
   "outputs": [
    {
     "data": {
      "text/plain": [
       "<matplotlib.axes._subplots.AxesSubplot at 0x1246da5d0>"
      ]
     },
     "execution_count": 66,
     "metadata": {},
     "output_type": "execute_result"
    },
    {
     "data": {
      "image/png": "[encoded data removed]",
      "text/plain": [
       "<matplotlib.figure.Figure at 0x1243ede10>"
      ]
     },
     "metadata": {},
     "output_type": "display_data"
    }
   ],
   "source": [
    "zipgroup.mean()['loss_recorded'].plot(kind='barh')"
   ]
  },
  {
   "cell_type": "code",
   "execution_count": 71,
   "metadata": {
    "collapsed": false
   },
   "outputs": [
    {
     "data": {
      "text/plain": [
       "0.029311724689875949"
      ]
     },
     "execution_count": 71,
     "metadata": {},
     "output_type": "execute_result"
    }
   ],
   "source": [
    "# the above document shows the likelihood that the estimated_property_loss value \n",
    "# is recorded based on zipcode.\n",
    "# Mission District is within 94103, 94110 zipcodes\n",
    "# \n",
    "zipgroup.mean()['loss_recorded'][94103]"
   ]
  },
  {
   "cell_type": "code",
   "execution_count": 72,
   "metadata": {
    "collapsed": false
   },
   "outputs": [
    {
     "data": {
      "text/plain": [
       "0.046858983745790013"
      ]
     },
     "execution_count": 72,
     "metadata": {},
     "output_type": "execute_result"
    }
   ],
   "source": [
    "zipgroup.mean()['loss_recorded'][94110]"
   ]
  },
  {
   "cell_type": "code",
   "execution_count": 74,
   "metadata": {
    "collapsed": false
   },
   "outputs": [
    {
     "data": {
      "text/plain": [
       "<matplotlib.axes._subplots.AxesSubplot at 0x1264ae1d0>"
      ]
     },
     "execution_count": 74,
     "metadata": {},
     "output_type": "execute_result"
    },
    {
     "data": {
      "image/png": "[encoded data removed]",
      "text/plain": [
       "<matplotlib.figure.Figure at 0x126520dd0>"
      ]
     },
     "metadata": {},
     "output_type": "display_data"
    }
   ],
   "source": [
    "mask = ((df.estimated_property_loss.notnull()) & \n",
    "        (df.zipcode == 94110))\n",
    "sns.distplot(df[mask].estimated_property_loss)"
   ]
  },
  {
   "cell_type": "code",
   "execution_count": 75,
   "metadata": {
    "collapsed": false
   },
   "outputs": [
    {
     "data": {
      "text/plain": [
       "<matplotlib.axes._subplots.AxesSubplot at 0x1268e87d0>"
      ]
     },
     "execution_count": 75,
     "metadata": {},
     "output_type": "execute_result"
    },
    {
     "data": {
      "image/png": "[encoded data removed]",
      "text/plain": [
       "<matplotlib.figure.Figure at 0x126515ed0>"
      ]
     },
     "metadata": {},
     "output_type": "display_data"
    }
   ],
   "source": [
    "mask = ((df.estimated_property_loss.notnull()) & \n",
    "        (df.zipcode == 94103))\n",
    "sns.distplot(df[mask].estimated_property_loss)"
   ]
  },
  {
   "cell_type": "code",
   "execution_count": 77,
   "metadata": {
    "collapsed": false
   },
   "outputs": [
    {
     "data": {
      "text/plain": [
       " 50         0.163823\n",
       " 1          0.092150\n",
       " 500        0.078498\n",
       " 100        0.078498\n",
       " 5000       0.075085\n",
       " 0          0.064846\n",
       " 1000       0.058020\n",
       " 10         0.054608\n",
       " 2000       0.030717\n",
       " 5          0.027304\n",
       " 200        0.027304\n",
       " 10000      0.023891\n",
       " 25         0.017065\n",
       " 20         0.013652\n",
       " 2500       0.013652\n",
       " 30000      0.013652\n",
       " 100000     0.010239\n",
       " 15000      0.010239\n",
       " 15         0.010239\n",
       " 750        0.010239\n",
       " 4000       0.010239\n",
       " 1500       0.006826\n",
       " 3000       0.006826\n",
       " 45         0.006826\n",
       " 25000      0.006826\n",
       " 800        0.006826\n",
       " 73000      0.003413\n",
       " 2000000    0.003413\n",
       " 150000     0.003413\n",
       " 300000     0.003413\n",
       " 110000     0.003413\n",
       " 3500       0.003413\n",
       " 30         0.003413\n",
       " 40000      0.003413\n",
       " 600        0.003413\n",
       " 1442       0.003413\n",
       " 150        0.003413\n",
       " 400        0.003413\n",
       " 1200       0.003413\n",
       " 35000      0.003413\n",
       " 120000     0.003413\n",
       " 350        0.003413\n",
       " 2250       0.003413\n",
       " 55000      0.003413\n",
       " 780000     0.003413\n",
       " 7000       0.003413\n",
       " 250        0.003413\n",
       " 300        0.003413\n",
       " 9500       0.003413\n",
       "-10         0.003413\n",
       "Name: estimated_property_loss, dtype: float64"
      ]
     },
     "execution_count": 77,
     "metadata": {},
     "output_type": "execute_result"
    }
   ],
   "source": []
  },
  {
   "cell_type": "code",
   "execution_count": 79,
   "metadata": {
    "collapsed": false
   },
   "outputs": [],
   "source": [
    "df['estimated_property_loss'] = pd.to_numeric(df['estimated_property_loss'])"
   ]
  },
  {
   "cell_type": "code",
   "execution_count": 84,
   "metadata": {
    "collapsed": false
   },
   "outputs": [],
   "source": [
    "df['estimated_property_loss'] = df['estimated_property_loss'].fillna(0)"
   ]
  },
  {
   "cell_type": "code",
   "execution_count": 87,
   "metadata": {
    "collapsed": false
   },
   "outputs": [
    {
     "name": "stdout",
     "output_type": "stream",
     "text": [
      "<class 'pandas.core.frame.DataFrame'>\n",
      "Int64Index: 100000 entries, 0 to 99999\n",
      "Data columns (total 46 columns):\n",
      "action_taken_other                          32285 non-null object\n",
      "action_taken_primary                        100000 non-null object\n",
      "action_taken_secondary                      37405 non-null object\n",
      "address                                     99902 non-null object\n",
      "alarm_dttm                                  100000 non-null datetime64[ns]\n",
      "area_of_fire_origin                         4529 non-null object\n",
      "arrival_dttm                                99984 non-null datetime64[ns]\n",
      "automatic_extinguishing_system_present      1154 non-null object\n",
      "automatic_extinguishing_sytem_perfomance    605 non-null object\n",
      "city                                        98795 non-null object\n",
      "civilian_fatalities                         100000 non-null int64\n",
      "civilian_injuries                           100000 non-null int64\n",
      "close_dttm                                  100000 non-null datetime64[ns]\n",
      "detector_alerted_occupants                  34186 non-null object\n",
      "detector_operation                          818 non-null object\n",
      "detector_type                               818 non-null object\n",
      "detectors_present                           1155 non-null object\n",
      "estimated_contents_loss                     4857 non-null float64\n",
      "estimated_property_loss                     100000 non-null float64\n",
      "fire_fatalities                             100000 non-null int64\n",
      "fire_injuries                               100000 non-null int64\n",
      "fire_spread                                 421 non-null object\n",
      "floor_of_fire_origin                        1151 non-null float64\n",
      "heat_source                                 4529 non-null object\n",
      "human_factors_associated_with_ignition      4526 non-null object\n",
      "ignition_cause                              4528 non-null object\n",
      "ignition_factor_primary                     4527 non-null object\n",
      "incident_date                               100000 non-null object\n",
      "incident_number                             100000 non-null int64\n",
      "item_first_ignited                          4529 non-null object\n",
      "location                                    95390 non-null object\n",
      "neighborhood_district                       93500 non-null object\n",
      "number_of_floors_with_extreme_damage        432 non-null float64\n",
      "number_of_floors_with_heavy_damage          431 non-null float64\n",
      "number_of_floors_with_minimum_damage        431 non-null float64\n",
      "number_of_floors_with_significant_damage    429 non-null float64\n",
      "number_of_sprinkler_heads_operating         482 non-null float64\n",
      "primary_situation                           100000 non-null object\n",
      "property_use                                99678 non-null object\n",
      "structure_status                            1154 non-null object\n",
      "structure_type                              1221 non-null object\n",
      "suppression_personnel                       100000 non-null int64\n",
      "suppression_units                           100000 non-null int64\n",
      "zipcode                                     93543 non-null float64\n",
      "year                                        100000 non-null int64\n",
      "loss_recorded                               100000 non-null int64\n",
      "dtypes: datetime64[ns](3), float64(9), int64(9), object(25)\n",
      "memory usage: 35.9+ MB\n"
     ]
    }
   ],
   "source": [
    "df.info()"
   ]
  },
  {
   "cell_type": "code",
   "execution_count": 89,
   "metadata": {
    "collapsed": false
   },
   "outputs": [
    {
     "data": {
      "text/plain": [
       "-2010.01       0.9988\n",
       " 79990.40      0.0004\n",
       " 39990.20      0.0003\n",
       " 119990.60     0.0002\n",
       " 759993.80     0.0001\n",
       " 279991.40     0.0001\n",
       " 1959999.80    0.0001\n",
       " 1679998.40    0.0000\n",
       " 399992.00     0.0000\n",
       " 719993.60     0.0000\n",
       " 679993.40     0.0000\n",
       " 639993.20     0.0000\n",
       " 599993.00     0.0000\n",
       " 559992.80     0.0000\n",
       " 519992.60     0.0000\n",
       " 479992.40     0.0000\n",
       " 439992.20     0.0000\n",
       " 359991.80     0.0000\n",
       " 799994.00     0.0000\n",
       " 319991.60     0.0000\n",
       " 1759998.80    0.0000\n",
       " 239991.20     0.0000\n",
       " 199991.00     0.0000\n",
       " 159990.80     0.0000\n",
       " 1799999.00    0.0000\n",
       " 1839999.20    0.0000\n",
       " 1879999.40    0.0000\n",
       " 1719998.60    0.0000\n",
       " 839994.20     0.0000\n",
       " 1639998.20    0.0000\n",
       " 1279996.40    0.0000\n",
       " 1599998.00    0.0000\n",
       " 1559997.80    0.0000\n",
       " 1519997.60    0.0000\n",
       " 1479997.40    0.0000\n",
       " 1439997.20    0.0000\n",
       " 1399997.00    0.0000\n",
       " 1359996.80    0.0000\n",
       " 1319996.60    0.0000\n",
       " 1239996.20    0.0000\n",
       " 879994.40     0.0000\n",
       " 1199996.00    0.0000\n",
       " 1159995.80    0.0000\n",
       " 1119995.60    0.0000\n",
       " 1079995.40    0.0000\n",
       " 1039995.20    0.0000\n",
       " 999995.00     0.0000\n",
       " 1919999.60    0.0000\n",
       " 919994.60     0.0000\n",
       " 959994.80     0.0000\n",
       "Name: estimated_property_loss, dtype: float64"
      ]
     },
     "execution_count": 89,
     "metadata": {},
     "output_type": "execute_result"
    }
   ],
   "source": [
    "mask = ((df.estimated_property_loss.notnull()) & \n",
    "        (df.zipcode == 94103))\n",
    "df[mask].estimated_property_loss.value_counts(dropna=False, normalize=True, bins=50)"
   ]
  },
  {
   "cell_type": "code",
   "execution_count": 92,
   "metadata": {
    "collapsed": false
   },
   "outputs": [],
   "source": [
    "df['month'] = df.alarm_dttm.apply(lambda x: x.month)"
   ]
  },
  {
   "cell_type": "code",
   "execution_count": 95,
   "metadata": {
    "collapsed": false
   },
   "outputs": [
    {
     "data": {
      "text/html": [
       "<div>\n",
       "<table border=\"1\" class=\"dataframe\">\n",
       "  <thead>\n",
       "    <tr style=\"text-align: right;\">\n",
       "      <th></th>\n",
       "      <th>civilian_fatalities</th>\n",
       "      <th>civilian_injuries</th>\n",
       "      <th>estimated_contents_loss</th>\n",
       "      <th>estimated_property_loss</th>\n",
       "      <th>fire_fatalities</th>\n",
       "      <th>fire_injuries</th>\n",
       "      <th>floor_of_fire_origin</th>\n",
       "      <th>incident_number</th>\n",
       "      <th>number_of_floors_with_extreme_damage</th>\n",
       "      <th>number_of_floors_with_heavy_damage</th>\n",
       "      <th>number_of_floors_with_minimum_damage</th>\n",
       "      <th>number_of_floors_with_significant_damage</th>\n",
       "      <th>number_of_sprinkler_heads_operating</th>\n",
       "      <th>suppression_personnel</th>\n",
       "      <th>suppression_units</th>\n",
       "      <th>zipcode</th>\n",
       "      <th>year</th>\n",
       "      <th>loss_recorded</th>\n",
       "      <th>month</th>\n",
       "    </tr>\n",
       "  </thead>\n",
       "  <tbody>\n",
       "    <tr>\n",
       "      <th>count</th>\n",
       "      <td>2137</td>\n",
       "      <td>2137</td>\n",
       "      <td>63.000000</td>\n",
       "      <td>2137.000000</td>\n",
       "      <td>2137</td>\n",
       "      <td>2137</td>\n",
       "      <td>21.000000</td>\n",
       "      <td>2137.000000</td>\n",
       "      <td>0</td>\n",
       "      <td>0</td>\n",
       "      <td>0</td>\n",
       "      <td>0</td>\n",
       "      <td>2.000000</td>\n",
       "      <td>2137.000000</td>\n",
       "      <td>2137.000000</td>\n",
       "      <td>2114.000000</td>\n",
       "      <td>2137</td>\n",
       "      <td>2137.000000</td>\n",
       "      <td>2137</td>\n",
       "    </tr>\n",
       "    <tr>\n",
       "      <th>mean</th>\n",
       "      <td>0</td>\n",
       "      <td>0</td>\n",
       "      <td>25372.793651</td>\n",
       "      <td>1341.536266</td>\n",
       "      <td>0</td>\n",
       "      <td>0</td>\n",
       "      <td>2.000000</td>\n",
       "      <td>16066049.189050</td>\n",
       "      <td>NaN</td>\n",
       "      <td>NaN</td>\n",
       "      <td>NaN</td>\n",
       "      <td>NaN</td>\n",
       "      <td>2.000000</td>\n",
       "      <td>9.253627</td>\n",
       "      <td>2.468882</td>\n",
       "      <td>94113.966887</td>\n",
       "      <td>2016</td>\n",
       "      <td>0.031820</td>\n",
       "      <td>6</td>\n",
       "    </tr>\n",
       "    <tr>\n",
       "      <th>std</th>\n",
       "      <td>0</td>\n",
       "      <td>0</td>\n",
       "      <td>139837.004495</td>\n",
       "      <td>54258.589948</td>\n",
       "      <td>0</td>\n",
       "      <td>0</td>\n",
       "      <td>1.048809</td>\n",
       "      <td>3478.935228</td>\n",
       "      <td>NaN</td>\n",
       "      <td>NaN</td>\n",
       "      <td>NaN</td>\n",
       "      <td>NaN</td>\n",
       "      <td>1.414214</td>\n",
       "      <td>7.775241</td>\n",
       "      <td>2.160050</td>\n",
       "      <td>10.727218</td>\n",
       "      <td>0</td>\n",
       "      <td>0.175563</td>\n",
       "      <td>0</td>\n",
       "    </tr>\n",
       "    <tr>\n",
       "      <th>min</th>\n",
       "      <td>0</td>\n",
       "      <td>0</td>\n",
       "      <td>0.000000</td>\n",
       "      <td>0.000000</td>\n",
       "      <td>0</td>\n",
       "      <td>0</td>\n",
       "      <td>1.000000</td>\n",
       "      <td>16060113.000000</td>\n",
       "      <td>NaN</td>\n",
       "      <td>NaN</td>\n",
       "      <td>NaN</td>\n",
       "      <td>NaN</td>\n",
       "      <td>1.000000</td>\n",
       "      <td>1.000000</td>\n",
       "      <td>1.000000</td>\n",
       "      <td>94102.000000</td>\n",
       "      <td>2016</td>\n",
       "      <td>0.000000</td>\n",
       "      <td>6</td>\n",
       "    </tr>\n",
       "    <tr>\n",
       "      <th>25%</th>\n",
       "      <td>0</td>\n",
       "      <td>0</td>\n",
       "      <td>10.000000</td>\n",
       "      <td>0.000000</td>\n",
       "      <td>0</td>\n",
       "      <td>0</td>\n",
       "      <td>1.000000</td>\n",
       "      <td>16062990.000000</td>\n",
       "      <td>NaN</td>\n",
       "      <td>NaN</td>\n",
       "      <td>NaN</td>\n",
       "      <td>NaN</td>\n",
       "      <td>1.500000</td>\n",
       "      <td>4.000000</td>\n",
       "      <td>1.000000</td>\n",
       "      <td>94105.000000</td>\n",
       "      <td>2016</td>\n",
       "      <td>0.000000</td>\n",
       "      <td>6</td>\n",
       "    </tr>\n",
       "    <tr>\n",
       "      <th>50%</th>\n",
       "      <td>0</td>\n",
       "      <td>0</td>\n",
       "      <td>50.000000</td>\n",
       "      <td>0.000000</td>\n",
       "      <td>0</td>\n",
       "      <td>0</td>\n",
       "      <td>2.000000</td>\n",
       "      <td>16065963.000000</td>\n",
       "      <td>NaN</td>\n",
       "      <td>NaN</td>\n",
       "      <td>NaN</td>\n",
       "      <td>NaN</td>\n",
       "      <td>2.000000</td>\n",
       "      <td>9.000000</td>\n",
       "      <td>2.000000</td>\n",
       "      <td>94110.000000</td>\n",
       "      <td>2016</td>\n",
       "      <td>0.000000</td>\n",
       "      <td>6</td>\n",
       "    </tr>\n",
       "    <tr>\n",
       "      <th>75%</th>\n",
       "      <td>0</td>\n",
       "      <td>0</td>\n",
       "      <td>300.000000</td>\n",
       "      <td>0.000000</td>\n",
       "      <td>0</td>\n",
       "      <td>0</td>\n",
       "      <td>3.000000</td>\n",
       "      <td>16069016.000000</td>\n",
       "      <td>NaN</td>\n",
       "      <td>NaN</td>\n",
       "      <td>NaN</td>\n",
       "      <td>NaN</td>\n",
       "      <td>2.500000</td>\n",
       "      <td>11.000000</td>\n",
       "      <td>3.000000</td>\n",
       "      <td>94122.000000</td>\n",
       "      <td>2016</td>\n",
       "      <td>0.000000</td>\n",
       "      <td>6</td>\n",
       "    </tr>\n",
       "    <tr>\n",
       "      <th>max</th>\n",
       "      <td>0</td>\n",
       "      <td>0</td>\n",
       "      <td>1000000.000000</td>\n",
       "      <td>2500000.000000</td>\n",
       "      <td>0</td>\n",
       "      <td>0</td>\n",
       "      <td>5.000000</td>\n",
       "      <td>16072142.000000</td>\n",
       "      <td>NaN</td>\n",
       "      <td>NaN</td>\n",
       "      <td>NaN</td>\n",
       "      <td>NaN</td>\n",
       "      <td>3.000000</td>\n",
       "      <td>234.000000</td>\n",
       "      <td>61.000000</td>\n",
       "      <td>94158.000000</td>\n",
       "      <td>2016</td>\n",
       "      <td>1.000000</td>\n",
       "      <td>6</td>\n",
       "    </tr>\n",
       "  </tbody>\n",
       "</table>\n",
       "</div>"
      ],
      "text/plain": [
       "       civilian_fatalities  civilian_injuries  estimated_contents_loss  \\\n",
       "count                 2137               2137                63.000000   \n",
       "mean                     0                  0             25372.793651   \n",
       "std                      0                  0            139837.004495   \n",
       "min                      0                  0                 0.000000   \n",
       "25%                      0                  0                10.000000   \n",
       "50%                      0                  0                50.000000   \n",
       "75%                      0                  0               300.000000   \n",
       "max                      0                  0           1000000.000000   \n",
       "\n",
       "       estimated_property_loss  fire_fatalities  fire_injuries  \\\n",
       "count              2137.000000             2137           2137   \n",
       "mean               1341.536266                0              0   \n",
       "std               54258.589948                0              0   \n",
       "min                   0.000000                0              0   \n",
       "25%                   0.000000                0              0   \n",
       "50%                   0.000000                0              0   \n",
       "75%                   0.000000                0              0   \n",
       "max             2500000.000000                0              0   \n",
       "\n",
       "       floor_of_fire_origin  incident_number  \\\n",
       "count             21.000000      2137.000000   \n",
       "mean               2.000000  16066049.189050   \n",
       "std                1.048809      3478.935228   \n",
       "min                1.000000  16060113.000000   \n",
       "25%                1.000000  16062990.000000   \n",
       "50%                2.000000  16065963.000000   \n",
       "75%                3.000000  16069016.000000   \n",
       "max                5.000000  16072142.000000   \n",
       "\n",
       "       number_of_floors_with_extreme_damage  \\\n",
       "count                                     0   \n",
       "mean                                    NaN   \n",
       "std                                     NaN   \n",
       "min                                     NaN   \n",
       "25%                                     NaN   \n",
       "50%                                     NaN   \n",
       "75%                                     NaN   \n",
       "max                                     NaN   \n",
       "\n",
       "       number_of_floors_with_heavy_damage  \\\n",
       "count                                   0   \n",
       "mean                                  NaN   \n",
       "std                                   NaN   \n",
       "min                                   NaN   \n",
       "25%                                   NaN   \n",
       "50%                                   NaN   \n",
       "75%                                   NaN   \n",
       "max                                   NaN   \n",
       "\n",
       "       number_of_floors_with_minimum_damage  \\\n",
       "count                                     0   \n",
       "mean                                    NaN   \n",
       "std                                     NaN   \n",
       "min                                     NaN   \n",
       "25%                                     NaN   \n",
       "50%                                     NaN   \n",
       "75%                                     NaN   \n",
       "max                                     NaN   \n",
       "\n",
       "       number_of_floors_with_significant_damage  \\\n",
       "count                                         0   \n",
       "mean                                        NaN   \n",
       "std                                         NaN   \n",
       "min                                         NaN   \n",
       "25%                                         NaN   \n",
       "50%                                         NaN   \n",
       "75%                                         NaN   \n",
       "max                                         NaN   \n",
       "\n",
       "       number_of_sprinkler_heads_operating  suppression_personnel  \\\n",
       "count                             2.000000            2137.000000   \n",
       "mean                              2.000000               9.253627   \n",
       "std                               1.414214               7.775241   \n",
       "min                               1.000000               1.000000   \n",
       "25%                               1.500000               4.000000   \n",
       "50%                               2.000000               9.000000   \n",
       "75%                               2.500000              11.000000   \n",
       "max                               3.000000             234.000000   \n",
       "\n",
       "       suppression_units       zipcode  year  loss_recorded  month  \n",
       "count        2137.000000   2114.000000  2137    2137.000000   2137  \n",
       "mean            2.468882  94113.966887  2016       0.031820      6  \n",
       "std             2.160050     10.727218     0       0.175563      0  \n",
       "min             1.000000  94102.000000  2016       0.000000      6  \n",
       "25%             1.000000  94105.000000  2016       0.000000      6  \n",
       "50%             2.000000  94110.000000  2016       0.000000      6  \n",
       "75%             3.000000  94122.000000  2016       0.000000      6  \n",
       "max            61.000000  94158.000000  2016       1.000000      6  "
      ]
     },
     "execution_count": 95,
     "metadata": {},
     "output_type": "execute_result"
    }
   ],
   "source": [
    "mask = ((df.month == 6) & (df.year == 2016))\n",
    "df[mask].describe()"
   ]
  },
  {
   "cell_type": "code",
   "execution_count": 96,
   "metadata": {
    "collapsed": false
   },
   "outputs": [
    {
     "data": {
      "text/html": [
       "<div>\n",
       "<table border=\"1\" class=\"dataframe\">\n",
       "  <thead>\n",
       "    <tr style=\"text-align: right;\">\n",
       "      <th></th>\n",
       "      <th>civilian_fatalities</th>\n",
       "      <th>civilian_injuries</th>\n",
       "      <th>estimated_contents_loss</th>\n",
       "      <th>estimated_property_loss</th>\n",
       "      <th>fire_fatalities</th>\n",
       "      <th>fire_injuries</th>\n",
       "      <th>floor_of_fire_origin</th>\n",
       "      <th>incident_number</th>\n",
       "      <th>number_of_floors_with_extreme_damage</th>\n",
       "      <th>number_of_floors_with_heavy_damage</th>\n",
       "      <th>number_of_floors_with_minimum_damage</th>\n",
       "      <th>number_of_floors_with_significant_damage</th>\n",
       "      <th>number_of_sprinkler_heads_operating</th>\n",
       "      <th>suppression_personnel</th>\n",
       "      <th>suppression_units</th>\n",
       "      <th>zipcode</th>\n",
       "      <th>year</th>\n",
       "      <th>loss_recorded</th>\n",
       "      <th>month</th>\n",
       "    </tr>\n",
       "  </thead>\n",
       "  <tbody>\n",
       "    <tr>\n",
       "      <th>count</th>\n",
       "      <td>100000.000000</td>\n",
       "      <td>100000.000000</td>\n",
       "      <td>4857.000000</td>\n",
       "      <td>100000.000000</td>\n",
       "      <td>100000</td>\n",
       "      <td>100000.000000</td>\n",
       "      <td>1151.000000</td>\n",
       "      <td>100000.000000</td>\n",
       "      <td>432.000000</td>\n",
       "      <td>431.000000</td>\n",
       "      <td>431.000000</td>\n",
       "      <td>429.000000</td>\n",
       "      <td>482.000000</td>\n",
       "      <td>100000.000000</td>\n",
       "      <td>100000.000000</td>\n",
       "      <td>93543.000000</td>\n",
       "      <td>100000.000000</td>\n",
       "      <td>100000.000000</td>\n",
       "      <td>100000.000000</td>\n",
       "    </tr>\n",
       "    <tr>\n",
       "      <th>mean</th>\n",
       "      <td>0.000030</td>\n",
       "      <td>0.001140</td>\n",
       "      <td>8076.845501</td>\n",
       "      <td>1264.292410</td>\n",
       "      <td>0</td>\n",
       "      <td>0.000250</td>\n",
       "      <td>2.002606</td>\n",
       "      <td>14413858.810870</td>\n",
       "      <td>0.125000</td>\n",
       "      <td>0.157773</td>\n",
       "      <td>0.700696</td>\n",
       "      <td>0.209790</td>\n",
       "      <td>0.267635</td>\n",
       "      <td>9.315160</td>\n",
       "      <td>2.595610</td>\n",
       "      <td>94113.901756</td>\n",
       "      <td>2014.349240</td>\n",
       "      <td>0.036680</td>\n",
       "      <td>6.402650</td>\n",
       "    </tr>\n",
       "    <tr>\n",
       "      <th>std</th>\n",
       "      <td>0.005477</td>\n",
       "      <td>0.058127</td>\n",
       "      <td>163792.416829</td>\n",
       "      <td>130368.251155</td>\n",
       "      <td>0</td>\n",
       "      <td>0.021678</td>\n",
       "      <td>2.054685</td>\n",
       "      <td>1030120.261477</td>\n",
       "      <td>0.479873</td>\n",
       "      <td>0.455640</td>\n",
       "      <td>0.524714</td>\n",
       "      <td>0.440685</td>\n",
       "      <td>1.060023</td>\n",
       "      <td>7.004068</td>\n",
       "      <td>8.021293</td>\n",
       "      <td>10.391688</td>\n",
       "      <td>1.036881</td>\n",
       "      <td>0.187976</td>\n",
       "      <td>3.411947</td>\n",
       "    </tr>\n",
       "    <tr>\n",
       "      <th>min</th>\n",
       "      <td>0.000000</td>\n",
       "      <td>0.000000</td>\n",
       "      <td>-7.000000</td>\n",
       "      <td>-25000.000000</td>\n",
       "      <td>0</td>\n",
       "      <td>0.000000</td>\n",
       "      <td>-3.000000</td>\n",
       "      <td>13014518.000000</td>\n",
       "      <td>0.000000</td>\n",
       "      <td>0.000000</td>\n",
       "      <td>0.000000</td>\n",
       "      <td>0.000000</td>\n",
       "      <td>0.000000</td>\n",
       "      <td>0.000000</td>\n",
       "      <td>0.000000</td>\n",
       "      <td>94102.000000</td>\n",
       "      <td>2013.000000</td>\n",
       "      <td>0.000000</td>\n",
       "      <td>1.000000</td>\n",
       "    </tr>\n",
       "    <tr>\n",
       "      <th>25%</th>\n",
       "      <td>0.000000</td>\n",
       "      <td>0.000000</td>\n",
       "      <td>10.000000</td>\n",
       "      <td>0.000000</td>\n",
       "      <td>0</td>\n",
       "      <td>0.000000</td>\n",
       "      <td>1.000000</td>\n",
       "      <td>13115656.750000</td>\n",
       "      <td>0.000000</td>\n",
       "      <td>0.000000</td>\n",
       "      <td>0.000000</td>\n",
       "      <td>0.000000</td>\n",
       "      <td>0.000000</td>\n",
       "      <td>4.000000</td>\n",
       "      <td>1.000000</td>\n",
       "      <td>94105.000000</td>\n",
       "      <td>2013.000000</td>\n",
       "      <td>0.000000</td>\n",
       "      <td>4.000000</td>\n",
       "    </tr>\n",
       "    <tr>\n",
       "      <th>50%</th>\n",
       "      <td>0.000000</td>\n",
       "      <td>0.000000</td>\n",
       "      <td>50.000000</td>\n",
       "      <td>0.000000</td>\n",
       "      <td>0</td>\n",
       "      <td>0.000000</td>\n",
       "      <td>2.000000</td>\n",
       "      <td>14118095.500000</td>\n",
       "      <td>0.000000</td>\n",
       "      <td>0.000000</td>\n",
       "      <td>1.000000</td>\n",
       "      <td>0.000000</td>\n",
       "      <td>0.000000</td>\n",
       "      <td>9.000000</td>\n",
       "      <td>2.000000</td>\n",
       "      <td>94111.000000</td>\n",
       "      <td>2014.000000</td>\n",
       "      <td>0.000000</td>\n",
       "      <td>6.000000</td>\n",
       "    </tr>\n",
       "    <tr>\n",
       "      <th>75%</th>\n",
       "      <td>0.000000</td>\n",
       "      <td>0.000000</td>\n",
       "      <td>200.000000</td>\n",
       "      <td>0.000000</td>\n",
       "      <td>0</td>\n",
       "      <td>0.000000</td>\n",
       "      <td>2.000000</td>\n",
       "      <td>15098423.000000</td>\n",
       "      <td>0.000000</td>\n",
       "      <td>0.000000</td>\n",
       "      <td>1.000000</td>\n",
       "      <td>0.000000</td>\n",
       "      <td>0.000000</td>\n",
       "      <td>11.000000</td>\n",
       "      <td>3.000000</td>\n",
       "      <td>94121.000000</td>\n",
       "      <td>2015.000000</td>\n",
       "      <td>0.000000</td>\n",
       "      <td>9.000000</td>\n",
       "    </tr>\n",
       "    <tr>\n",
       "      <th>max</th>\n",
       "      <td>1.000000</td>\n",
       "      <td>9.000000</td>\n",
       "      <td>10000000.000000</td>\n",
       "      <td>40000000.000000</td>\n",
       "      <td>0</td>\n",
       "      <td>4.000000</td>\n",
       "      <td>29.000000</td>\n",
       "      <td>16078074.000000</td>\n",
       "      <td>6.000000</td>\n",
       "      <td>4.000000</td>\n",
       "      <td>4.000000</td>\n",
       "      <td>3.000000</td>\n",
       "      <td>20.000000</td>\n",
       "      <td>234.000000</td>\n",
       "      <td>2257.000000</td>\n",
       "      <td>94158.000000</td>\n",
       "      <td>2016.000000</td>\n",
       "      <td>1.000000</td>\n",
       "      <td>12.000000</td>\n",
       "    </tr>\n",
       "  </tbody>\n",
       "</table>\n",
       "</div>"
      ],
      "text/plain": [
       "       civilian_fatalities  civilian_injuries  estimated_contents_loss  \\\n",
       "count        100000.000000      100000.000000              4857.000000   \n",
       "mean              0.000030           0.001140              8076.845501   \n",
       "std               0.005477           0.058127            163792.416829   \n",
       "min               0.000000           0.000000                -7.000000   \n",
       "25%               0.000000           0.000000                10.000000   \n",
       "50%               0.000000           0.000000                50.000000   \n",
       "75%               0.000000           0.000000               200.000000   \n",
       "max               1.000000           9.000000          10000000.000000   \n",
       "\n",
       "       estimated_property_loss  fire_fatalities  fire_injuries  \\\n",
       "count            100000.000000           100000  100000.000000   \n",
       "mean               1264.292410                0       0.000250   \n",
       "std              130368.251155                0       0.021678   \n",
       "min              -25000.000000                0       0.000000   \n",
       "25%                   0.000000                0       0.000000   \n",
       "50%                   0.000000                0       0.000000   \n",
       "75%                   0.000000                0       0.000000   \n",
       "max            40000000.000000                0       4.000000   \n",
       "\n",
       "       floor_of_fire_origin  incident_number  \\\n",
       "count           1151.000000    100000.000000   \n",
       "mean               2.002606  14413858.810870   \n",
       "std                2.054685   1030120.261477   \n",
       "min               -3.000000  13014518.000000   \n",
       "25%                1.000000  13115656.750000   \n",
       "50%                2.000000  14118095.500000   \n",
       "75%                2.000000  15098423.000000   \n",
       "max               29.000000  16078074.000000   \n",
       "\n",
       "       number_of_floors_with_extreme_damage  \\\n",
       "count                            432.000000   \n",
       "mean                               0.125000   \n",
       "std                                0.479873   \n",
       "min                                0.000000   \n",
       "25%                                0.000000   \n",
       "50%                                0.000000   \n",
       "75%                                0.000000   \n",
       "max                                6.000000   \n",
       "\n",
       "       number_of_floors_with_heavy_damage  \\\n",
       "count                          431.000000   \n",
       "mean                             0.157773   \n",
       "std                              0.455640   \n",
       "min                              0.000000   \n",
       "25%                              0.000000   \n",
       "50%                              0.000000   \n",
       "75%                              0.000000   \n",
       "max                              4.000000   \n",
       "\n",
       "       number_of_floors_with_minimum_damage  \\\n",
       "count                            431.000000   \n",
       "mean                               0.700696   \n",
       "std                                0.524714   \n",
       "min                                0.000000   \n",
       "25%                                0.000000   \n",
       "50%                                1.000000   \n",
       "75%                                1.000000   \n",
       "max                                4.000000   \n",
       "\n",
       "       number_of_floors_with_significant_damage  \\\n",
       "count                                429.000000   \n",
       "mean                                   0.209790   \n",
       "std                                    0.440685   \n",
       "min                                    0.000000   \n",
       "25%                                    0.000000   \n",
       "50%                                    0.000000   \n",
       "75%                                    0.000000   \n",
       "max                                    3.000000   \n",
       "\n",
       "       number_of_sprinkler_heads_operating  suppression_personnel  \\\n",
       "count                           482.000000          100000.000000   \n",
       "mean                              0.267635               9.315160   \n",
       "std                               1.060023               7.004068   \n",
       "min                               0.000000               0.000000   \n",
       "25%                               0.000000               4.000000   \n",
       "50%                               0.000000               9.000000   \n",
       "75%                               0.000000              11.000000   \n",
       "max                              20.000000             234.000000   \n",
       "\n",
       "       suppression_units       zipcode           year  loss_recorded  \\\n",
       "count      100000.000000  93543.000000  100000.000000  100000.000000   \n",
       "mean            2.595610  94113.901756    2014.349240       0.036680   \n",
       "std             8.021293     10.391688       1.036881       0.187976   \n",
       "min             0.000000  94102.000000    2013.000000       0.000000   \n",
       "25%             1.000000  94105.000000    2013.000000       0.000000   \n",
       "50%             2.000000  94111.000000    2014.000000       0.000000   \n",
       "75%             3.000000  94121.000000    2015.000000       0.000000   \n",
       "max          2257.000000  94158.000000    2016.000000       1.000000   \n",
       "\n",
       "               month  \n",
       "count  100000.000000  \n",
       "mean        6.402650  \n",
       "std         3.411947  \n",
       "min         1.000000  \n",
       "25%         4.000000  \n",
       "50%         6.000000  \n",
       "75%         9.000000  \n",
       "max        12.000000  "
      ]
     },
     "execution_count": 96,
     "metadata": {},
     "output_type": "execute_result"
    }
   ],
   "source": [
    "df.describe()"
   ]
  },
  {
   "cell_type": "code",
   "execution_count": 97,
   "metadata": {
    "collapsed": false
   },
   "outputs": [
    {
     "data": {
      "text/plain": [
       "Timestamp('2013-02-12 04:52:17')"
      ]
     },
     "execution_count": 97,
     "metadata": {},
     "output_type": "execute_result"
    }
   ],
   "source": [
    "df.alarm_dttm.min()"
   ]
  },
  {
   "cell_type": "code",
   "execution_count": 98,
   "metadata": {
    "collapsed": false
   },
   "outputs": [
    {
     "data": {
      "text/plain": [
       "Timestamp('2016-07-15 23:02:08')"
      ]
     },
     "execution_count": 98,
     "metadata": {},
     "output_type": "execute_result"
    }
   ],
   "source": [
    "df.alarm_dttm.max()"
   ]
  },
  {
   "cell_type": "code",
   "execution_count": null,
   "metadata": {
    "collapsed": true
   },
   "outputs": [],
   "source": [
    "# what is odd is how the fire civilian fatalities have a max value of 1, which makes it concerning that the dataset\n",
    "# is inaccurate and needs to be cleaned more carefully before we proceed.\n"
   ]
  }
 ],
 "metadata": {
  "kernelspec": {
   "display_name": "Python 2",
   "language": "python",
   "name": "python2"
  },
  "language_info": {
   "codemirror_mode": {
    "name": "ipython",
    "version": 2
   },
   "file_extension": ".py",
   "mimetype": "text/x-python",
   "name": "python",
   "nbconvert_exporter": "python",
   "pygments_lexer": "ipython2",
   "version": "2.7.10"
  }
 },
 "nbformat": 4,
 "nbformat_minor": 0
}
