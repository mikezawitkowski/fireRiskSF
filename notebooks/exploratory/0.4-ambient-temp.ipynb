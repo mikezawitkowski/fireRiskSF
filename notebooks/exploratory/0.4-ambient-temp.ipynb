{
 "cells": [
  {
   "cell_type": "code",
   "execution_count": 46,
   "metadata": {
    "collapsed": true
   },
   "outputs": [],
   "source": [
    "\"\"\"\n",
    "author: mikezawitkowski\n",
    "I had a conversation with someone who is working with the \n",
    "LA Fire Department to figure out how important ambient \n",
    "temperature is to predicting the outbreak of fire.\n",
    "I wanted to figure out if this was also important\n",
    "in predicting fire for San Francisco.\n",
    "We'll try and do a simply seaborn and pandas\n",
    "correlation plot to see.\n",
    "\"\"\"\n",
    "from __future__ import division, print_function\n",
    "import pandas as pd\n",
    "%matplotlib inline\n",
    "import seaborn as sns"
   ]
  },
  {
   "cell_type": "code",
   "execution_count": 2,
   "metadata": {
    "collapsed": true
   },
   "outputs": [],
   "source": [
    "query_url = 'https://data.sfgov.org/resource/wbb6-uh78.json?$order=close_dttm%20DESC&$offset={}&$limit={}'\n",
    "offset = 0\n",
    "limit = 100000\n",
    "df = pd.read_json(query_url.format(offset, limit))\n"
   ]
  },
  {
   "cell_type": "code",
   "execution_count": 3,
   "metadata": {
    "collapsed": true
   },
   "outputs": [],
   "source": [
    "cols_to_drop = [\"automatic_extinguishing_sytem_failure_reason\",\n",
    "                \"automatic_extinguishing_sytem_type\",\n",
    "                \"battalion\",\n",
    "                \"box\",\n",
    "                \"call_number\",\n",
    "                \"detector_effectiveness\",\n",
    "                \"detector_failure_reason\",\n",
    "                \"ems_personnel\",\n",
    "                \"ems_units\",\n",
    "                \"exposure_number\",\n",
    "                \"first_unit_on_scene\",\n",
    "                \"ignition_factor_secondary\",\n",
    "                \"mutual_aid\",\n",
    "                \"no_flame_spead\",\n",
    "                \"other_personnel\",\n",
    "                \"other_units\",\n",
    "                \"station_area\",\n",
    "                \"supervisor_district\"]\n",
    "df = df.drop(cols_to_drop, axis=1)"
   ]
  },
  {
   "cell_type": "code",
   "execution_count": 5,
   "metadata": {
    "collapsed": true
   },
   "outputs": [],
   "source": [
    "for col in df.columns:\n",
    "    if 'dttm' in col:\n",
    "        df[col] = pd.to_datetime(df[col])"
   ]
  },
  {
   "cell_type": "code",
   "execution_count": 8,
   "metadata": {
    "collapsed": false
   },
   "outputs": [
    {
     "data": {
      "text/plain": [
       "Timestamp('2013-02-10 19:19:30')"
      ]
     },
     "execution_count": 8,
     "metadata": {},
     "output_type": "execute_result"
    }
   ],
   "source": [
    "df.alarm_dttm.min()"
   ]
  },
  {
   "cell_type": "code",
   "execution_count": 9,
   "metadata": {
    "collapsed": false
   },
   "outputs": [
    {
     "data": {
      "text/plain": [
       "Timestamp('2016-07-14 21:09:18')"
      ]
     },
     "execution_count": 9,
     "metadata": {},
     "output_type": "execute_result"
    }
   ],
   "source": [
    "df.alarm_dttm.max()"
   ]
  },
  {
   "cell_type": "code",
   "execution_count": 13,
   "metadata": {
    "collapsed": false
   },
   "outputs": [],
   "source": [
    "d = df.alarm_dttm.min()"
   ]
  },
  {
   "cell_type": "code",
   "execution_count": 17,
   "metadata": {
    "collapsed": false
   },
   "outputs": [],
   "source": [
    "import json"
   ]
  },
  {
   "cell_type": "code",
   "execution_count": 24,
   "metadata": {
    "collapsed": false
   },
   "outputs": [],
   "source": [
    "with open('../../config.json', 'r') as fh:\n",
    "    weather_api_key = json.load(fh)['weatherunderground']"
   ]
  },
  {
   "cell_type": "code",
   "execution_count": 23,
   "metadata": {
    "collapsed": false
   },
   "outputs": [
    {
     "data": {
      "text/plain": [
       "u'945a4462cb26de37'"
      ]
     },
     "execution_count": 23,
     "metadata": {},
     "output_type": "execute_result"
    }
   ],
   "source": []
  },
  {
   "cell_type": "code",
   "execution_count": 25,
   "metadata": {
    "collapsed": true
   },
   "outputs": [],
   "source": [
    "# weather_underground developer key limits you to 500 calls per day and 10 calls per minute\n",
    "url = \"http://api.wunderground.com/api/{}/history_{}/q/CA/San_Francisco.json\""
   ]
  },
  {
   "cell_type": "code",
   "execution_count": 26,
   "metadata": {
    "collapsed": true
   },
   "outputs": [],
   "source": [
    "import requests"
   ]
  },
  {
   "cell_type": "code",
   "execution_count": 27,
   "metadata": {
    "collapsed": false
   },
   "outputs": [
    {
     "data": {
      "text/html": [
       "<div>\n",
       "<table border=\"1\" class=\"dataframe\">\n",
       "  <thead>\n",
       "    <tr style=\"text-align: right;\">\n",
       "      <th></th>\n",
       "      <th>action_taken_other</th>\n",
       "      <th>action_taken_primary</th>\n",
       "      <th>action_taken_secondary</th>\n",
       "      <th>address</th>\n",
       "      <th>alarm_dttm</th>\n",
       "      <th>area_of_fire_origin</th>\n",
       "      <th>arrival_dttm</th>\n",
       "      <th>automatic_extinguishing_system_present</th>\n",
       "      <th>automatic_extinguishing_sytem_perfomance</th>\n",
       "      <th>city</th>\n",
       "      <th>...</th>\n",
       "      <th>number_of_floors_with_minimum_damage</th>\n",
       "      <th>number_of_floors_with_significant_damage</th>\n",
       "      <th>number_of_sprinkler_heads_operating</th>\n",
       "      <th>primary_situation</th>\n",
       "      <th>property_use</th>\n",
       "      <th>structure_status</th>\n",
       "      <th>structure_type</th>\n",
       "      <th>suppression_personnel</th>\n",
       "      <th>suppression_units</th>\n",
       "      <th>zipcode</th>\n",
       "    </tr>\n",
       "  </thead>\n",
       "  <tbody>\n",
       "    <tr>\n",
       "      <th>0</th>\n",
       "      <td>NaN</td>\n",
       "      <td>32 provide basic life support (bls)</td>\n",
       "      <td>NaN</td>\n",
       "      <td>16th St/capp Street</td>\n",
       "      <td>2016-07-14 21:09:18</td>\n",
       "      <td>NaN</td>\n",
       "      <td>2016-07-14 21:11:29</td>\n",
       "      <td>NaN</td>\n",
       "      <td>NaN</td>\n",
       "      <td>San Francisco</td>\n",
       "      <td>...</td>\n",
       "      <td>NaN</td>\n",
       "      <td>NaN</td>\n",
       "      <td>NaN</td>\n",
       "      <td>322 motor vehicle accident with injuries</td>\n",
       "      <td>962 residential street, road or residential dr...</td>\n",
       "      <td>NaN</td>\n",
       "      <td>NaN</td>\n",
       "      <td>4</td>\n",
       "      <td>1</td>\n",
       "      <td>94110</td>\n",
       "    </tr>\n",
       "    <tr>\n",
       "      <th>1</th>\n",
       "      <td>NaN</td>\n",
       "      <td>86 investigate</td>\n",
       "      <td>NaN</td>\n",
       "      <td>524 Central Avenue</td>\n",
       "      <td>2016-07-14 20:27:21</td>\n",
       "      <td>NaN</td>\n",
       "      <td>2016-07-14 20:30:23</td>\n",
       "      <td>NaN</td>\n",
       "      <td>NaN</td>\n",
       "      <td>San Francisco</td>\n",
       "      <td>...</td>\n",
       "      <td>NaN</td>\n",
       "      <td>NaN</td>\n",
       "      <td>NaN</td>\n",
       "      <td>700 false alarm or false call, other</td>\n",
       "      <td>429 multifamily dwelling</td>\n",
       "      <td>NaN</td>\n",
       "      <td>NaN</td>\n",
       "      <td>34</td>\n",
       "      <td>10</td>\n",
       "      <td>94117</td>\n",
       "    </tr>\n",
       "    <tr>\n",
       "      <th>2</th>\n",
       "      <td>NaN</td>\n",
       "      <td>63 restore fire alarm system</td>\n",
       "      <td>NaN</td>\n",
       "      <td>1250 Sunnydale Avenue</td>\n",
       "      <td>2016-07-14 18:56:12</td>\n",
       "      <td>NaN</td>\n",
       "      <td>2016-07-14 19:03:35</td>\n",
       "      <td>NaN</td>\n",
       "      <td>NaN</td>\n",
       "      <td>San Francisco</td>\n",
       "      <td>...</td>\n",
       "      <td>NaN</td>\n",
       "      <td>NaN</td>\n",
       "      <td>NaN</td>\n",
       "      <td>745 alarm system activation, no fire - uninten...</td>\n",
       "      <td>429 multifamily dwelling</td>\n",
       "      <td>NaN</td>\n",
       "      <td>NaN</td>\n",
       "      <td>11</td>\n",
       "      <td>3</td>\n",
       "      <td>94134</td>\n",
       "    </tr>\n",
       "    <tr>\n",
       "      <th>3</th>\n",
       "      <td>NaN</td>\n",
       "      <td>60 systems and services, other</td>\n",
       "      <td>NaN</td>\n",
       "      <td>36th Av/ulloa Street</td>\n",
       "      <td>2016-07-14 17:09:22</td>\n",
       "      <td>NaN</td>\n",
       "      <td>2016-07-14 17:17:15</td>\n",
       "      <td>NaN</td>\n",
       "      <td>NaN</td>\n",
       "      <td>San Francisco</td>\n",
       "      <td>...</td>\n",
       "      <td>NaN</td>\n",
       "      <td>NaN</td>\n",
       "      <td>NaN</td>\n",
       "      <td>500 service call, other</td>\n",
       "      <td>900 outside or special property, other</td>\n",
       "      <td>NaN</td>\n",
       "      <td>NaN</td>\n",
       "      <td>4</td>\n",
       "      <td>1</td>\n",
       "      <td>94116</td>\n",
       "    </tr>\n",
       "    <tr>\n",
       "      <th>4</th>\n",
       "      <td>NaN</td>\n",
       "      <td>86 investigate</td>\n",
       "      <td>NaN</td>\n",
       "      <td>2301 Harrison Street</td>\n",
       "      <td>2016-07-14 13:50:36</td>\n",
       "      <td>NaN</td>\n",
       "      <td>2016-07-14 13:54:46</td>\n",
       "      <td>NaN</td>\n",
       "      <td>NaN</td>\n",
       "      <td>San Francisco</td>\n",
       "      <td>...</td>\n",
       "      <td>NaN</td>\n",
       "      <td>NaN</td>\n",
       "      <td>NaN</td>\n",
       "      <td>745 alarm system activation, no fire - uninten...</td>\n",
       "      <td>419 1 or 2 family dwelling</td>\n",
       "      <td>NaN</td>\n",
       "      <td>NaN</td>\n",
       "      <td>11</td>\n",
       "      <td>3</td>\n",
       "      <td>94110</td>\n",
       "    </tr>\n",
       "  </tbody>\n",
       "</table>\n",
       "<p>5 rows × 44 columns</p>\n",
       "</div>"
      ],
      "text/plain": [
       "  action_taken_other                 action_taken_primary  \\\n",
       "0                NaN  32 provide basic life support (bls)   \n",
       "1                NaN                       86 investigate   \n",
       "2                NaN         63 restore fire alarm system   \n",
       "3                NaN       60 systems and services, other   \n",
       "4                NaN                       86 investigate   \n",
       "\n",
       "  action_taken_secondary                address          alarm_dttm  \\\n",
       "0                    NaN    16th St/capp Street 2016-07-14 21:09:18   \n",
       "1                    NaN     524 Central Avenue 2016-07-14 20:27:21   \n",
       "2                    NaN  1250 Sunnydale Avenue 2016-07-14 18:56:12   \n",
       "3                    NaN   36th Av/ulloa Street 2016-07-14 17:09:22   \n",
       "4                    NaN   2301 Harrison Street 2016-07-14 13:50:36   \n",
       "\n",
       "  area_of_fire_origin        arrival_dttm  \\\n",
       "0                 NaN 2016-07-14 21:11:29   \n",
       "1                 NaN 2016-07-14 20:30:23   \n",
       "2                 NaN 2016-07-14 19:03:35   \n",
       "3                 NaN 2016-07-14 17:17:15   \n",
       "4                 NaN 2016-07-14 13:54:46   \n",
       "\n",
       "  automatic_extinguishing_system_present  \\\n",
       "0                                    NaN   \n",
       "1                                    NaN   \n",
       "2                                    NaN   \n",
       "3                                    NaN   \n",
       "4                                    NaN   \n",
       "\n",
       "  automatic_extinguishing_sytem_perfomance           city   ...     \\\n",
       "0                                      NaN  San Francisco   ...      \n",
       "1                                      NaN  San Francisco   ...      \n",
       "2                                      NaN  San Francisco   ...      \n",
       "3                                      NaN  San Francisco   ...      \n",
       "4                                      NaN  San Francisco   ...      \n",
       "\n",
       "   number_of_floors_with_minimum_damage  \\\n",
       "0                                   NaN   \n",
       "1                                   NaN   \n",
       "2                                   NaN   \n",
       "3                                   NaN   \n",
       "4                                   NaN   \n",
       "\n",
       "   number_of_floors_with_significant_damage  \\\n",
       "0                                       NaN   \n",
       "1                                       NaN   \n",
       "2                                       NaN   \n",
       "3                                       NaN   \n",
       "4                                       NaN   \n",
       "\n",
       "  number_of_sprinkler_heads_operating  \\\n",
       "0                                 NaN   \n",
       "1                                 NaN   \n",
       "2                                 NaN   \n",
       "3                                 NaN   \n",
       "4                                 NaN   \n",
       "\n",
       "                                   primary_situation  \\\n",
       "0           322 motor vehicle accident with injuries   \n",
       "1               700 false alarm or false call, other   \n",
       "2  745 alarm system activation, no fire - uninten...   \n",
       "3                            500 service call, other   \n",
       "4  745 alarm system activation, no fire - uninten...   \n",
       "\n",
       "                                        property_use structure_status  \\\n",
       "0  962 residential street, road or residential dr...              NaN   \n",
       "1                           429 multifamily dwelling              NaN   \n",
       "2                           429 multifamily dwelling              NaN   \n",
       "3             900 outside or special property, other              NaN   \n",
       "4                         419 1 or 2 family dwelling              NaN   \n",
       "\n",
       "  structure_type  suppression_personnel  suppression_units  zipcode  \n",
       "0            NaN                      4                  1    94110  \n",
       "1            NaN                     34                 10    94117  \n",
       "2            NaN                     11                  3    94134  \n",
       "3            NaN                      4                  1    94116  \n",
       "4            NaN                     11                  3    94110  \n",
       "\n",
       "[5 rows x 44 columns]"
      ]
     },
     "execution_count": 27,
     "metadata": {},
     "output_type": "execute_result"
    }
   ],
   "source": [
    "df.head()"
   ]
  },
  {
   "cell_type": "code",
   "execution_count": 28,
   "metadata": {
    "collapsed": false
   },
   "outputs": [
    {
     "data": {
      "text/plain": [
       "NaN         96335\n",
       " 50           487\n",
       " 1000         252\n",
       " 1            246\n",
       " 10           239\n",
       " 500          233\n",
       " 100          216\n",
       " 5000         206\n",
       " 10000        131\n",
       " 2000         129\n",
       " 5            127\n",
       " 0            114\n",
       " 25            84\n",
       " 200           82\n",
       " 20000         71\n",
       " 20            60\n",
       " 3000          56\n",
       " 1500          53\n",
       " 15000         53\n",
       " 50000         51\n",
       " 25000         48\n",
       " 750           40\n",
       " 2500          40\n",
       " 100000        38\n",
       " 300           30\n",
       " 30000         25\n",
       " 30            22\n",
       " 75000         18\n",
       " 250           18\n",
       " 8000          17\n",
       "            ...  \n",
       " 6025           1\n",
       " 5533           1\n",
       " 2900000        1\n",
       " 5429           1\n",
       " 5400           1\n",
       " 5299           1\n",
       " 5100           1\n",
       " 4999           1\n",
       " 4710           1\n",
       " 4100           1\n",
       " 8600           1\n",
       " 8700           1\n",
       " 140000         1\n",
       " 9129           1\n",
       " 16200          1\n",
       " 14993          1\n",
       " 14642          1\n",
       " 14609          1\n",
       " 14000          1\n",
       " 800000         1\n",
       " 12400          1\n",
       " 11900          1\n",
       " 11594          1\n",
       " 11000          1\n",
       " 10500          1\n",
       " 9841           1\n",
       " 9750           1\n",
       " 9500           1\n",
       " 9425           1\n",
       " 8328           1\n",
       "Name: estimated_property_loss, dtype: int64"
      ]
     },
     "execution_count": 28,
     "metadata": {},
     "output_type": "execute_result"
    }
   ],
   "source": [
    "df.estimated_property_loss.value_counts(dropna=False)"
   ]
  },
  {
   "cell_type": "code",
   "execution_count": 31,
   "metadata": {
    "collapsed": false
   },
   "outputs": [
    {
     "data": {
      "text/plain": [
       "0.96335"
      ]
     },
     "execution_count": 31,
     "metadata": {},
     "output_type": "execute_result"
    }
   ],
   "source": [
    "# of the 100,000 rows, 96,335 are null\n",
    "96335 / float(df.shape[0])"
   ]
  },
  {
   "cell_type": "markdown",
   "metadata": {
    "collapsed": false
   },
   "source": [
    "# Check In\n",
    "\n",
    "Switching back to ambient temp, I found this resource for downloading from SF based weather stations going back to 2013:\n",
    "http://www.ncdc.noaa.gov/cgi-bin/cdo/cdoprod.pl\n",
    "\n",
    "I'll add this to external data folder, and here's the link for future reference to download the requested data\n",
    "from 2013 through 2016:\n",
    "http://www.ncdc.noaa.gov/orders/isd/CDO5991787088242.html\n",
    "\n",
    "Still waiting for the data file to be available at the above link. \n"
   ]
  },
  {
   "cell_type": "code",
   "execution_count": null,
   "metadata": {
    "collapsed": true
   },
   "outputs": [],
   "source": []
  }
 ],
 "metadata": {
  "kernelspec": {
   "display_name": "Python 2",
   "language": "python",
   "name": "python2"
  },
  "language_info": {
   "codemirror_mode": {
    "name": "ipython",
    "version": 2
   },
   "file_extension": ".py",
   "mimetype": "text/x-python",
   "name": "python",
   "nbconvert_exporter": "python",
   "pygments_lexer": "ipython2",
   "version": "2.7.10"
  }
 },
 "nbformat": 4,
 "nbformat_minor": 0
}
