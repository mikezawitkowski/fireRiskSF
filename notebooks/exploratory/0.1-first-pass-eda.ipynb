{
 "cells": [
  {
   "cell_type": "code",
   "execution_count": 6,
   "metadata": {
    "collapsed": true
   },
   "outputs": [],
   "source": [
    "\"\"\"\n",
    "0.1-first-pass-eda.ipynb\n",
    "The very first pass through, examining the data,\n",
    "looking around an initial set of data,\n",
    "while trying to keep it DRY and programmatic,\n",
    "and reproducable.\n",
    "\n",
    "RESULT: \n",
    "There is something broken or misunderstood about how the script below is using offset.\n",
    "It needs to be figured out in order to programmatically access the data available \n",
    "on data.sfgov.org in an accurate and effective manner.\n",
    "\"\"\"\n",
    "from __future__ import division, print_function # For Python3 future-proofing\n",
    "import os\n",
    "import pandas as pd\n",
    "import numpy as np\n"
   ]
  },
  {
   "cell_type": "code",
   "execution_count": 79,
   "metadata": {
    "collapsed": false
   },
   "outputs": [],
   "source": [
    "# GOTCHYA: be explicit about the API call to ensure the ordering stays the same, and add an ordering to it\n",
    "df = pd.read_json('https://data.sfgov.org/resource/kikm-y2iv.json?$limit=1000&$offset=0&$order=received_dttm')"
   ]
  },
  {
   "cell_type": "code",
   "execution_count": 80,
   "metadata": {
    "collapsed": false
   },
   "outputs": [
    {
     "data": {
      "text/html": [
       "<div>\n",
       "<table border=\"1\" class=\"dataframe\">\n",
       "  <thead>\n",
       "    <tr style=\"text-align: right;\">\n",
       "      <th></th>\n",
       "      <th>address</th>\n",
       "      <th>als_unit</th>\n",
       "      <th>available_dttm</th>\n",
       "      <th>battalion</th>\n",
       "      <th>box</th>\n",
       "      <th>call_date</th>\n",
       "      <th>call_final_disposition</th>\n",
       "      <th>call_number</th>\n",
       "      <th>call_type_group</th>\n",
       "      <th>city</th>\n",
       "      <th>...</th>\n",
       "      <th>response_dttm</th>\n",
       "      <th>rowid</th>\n",
       "      <th>station_area</th>\n",
       "      <th>supervisor_district</th>\n",
       "      <th>transport_dttm</th>\n",
       "      <th>unit_id</th>\n",
       "      <th>unit_sequence_in_call_dispatch</th>\n",
       "      <th>unit_type</th>\n",
       "      <th>watch_date</th>\n",
       "      <th>zipcode_of_incident</th>\n",
       "    </tr>\n",
       "  </thead>\n",
       "  <tbody>\n",
       "    <tr>\n",
       "      <th>0</th>\n",
       "      <td>600 Block of LAGUNA ST</td>\n",
       "      <td>False</td>\n",
       "      <td>2016-01-01T01:17:47</td>\n",
       "      <td>B02</td>\n",
       "      <td>3413</td>\n",
       "      <td>2016-01-01T00:00:00</td>\n",
       "      <td>Code 2 Transport</td>\n",
       "      <td>160010009</td>\n",
       "      <td>Potentially Life-Threatening</td>\n",
       "      <td>San Francisco</td>\n",
       "      <td>...</td>\n",
       "      <td>2016-01-01T00:10:30</td>\n",
       "      <td>160010009-KM11</td>\n",
       "      <td>36</td>\n",
       "      <td>5</td>\n",
       "      <td>2016-01-01T00:42:14</td>\n",
       "      <td>KM11</td>\n",
       "      <td>1</td>\n",
       "      <td>PRIVATE</td>\n",
       "      <td>2015-12-31T00:00:00</td>\n",
       "      <td>94102</td>\n",
       "    </tr>\n",
       "    <tr>\n",
       "      <th>1</th>\n",
       "      <td>600 Block of LAGUNA ST</td>\n",
       "      <td>False</td>\n",
       "      <td>2016-01-01T00:15:00</td>\n",
       "      <td>B02</td>\n",
       "      <td>3413</td>\n",
       "      <td>2016-01-01T00:00:00</td>\n",
       "      <td>Code 2 Transport</td>\n",
       "      <td>160010009</td>\n",
       "      <td>Potentially Life-Threatening</td>\n",
       "      <td>San Francisco</td>\n",
       "      <td>...</td>\n",
       "      <td>2016-01-01T00:05:22</td>\n",
       "      <td>160010009-KM06</td>\n",
       "      <td>36</td>\n",
       "      <td>5</td>\n",
       "      <td>2016-04-25T12:54:45</td>\n",
       "      <td>KM06</td>\n",
       "      <td>2</td>\n",
       "      <td>PRIVATE</td>\n",
       "      <td>2015-12-31T00:00:00</td>\n",
       "      <td>94102</td>\n",
       "    </tr>\n",
       "    <tr>\n",
       "      <th>2</th>\n",
       "      <td>PRECITA AV/FLORIDA ST</td>\n",
       "      <td>True</td>\n",
       "      <td>2016-01-01T00:12:51</td>\n",
       "      <td>B06</td>\n",
       "      <td>5621</td>\n",
       "      <td>2016-01-01T00:00:00</td>\n",
       "      <td>No Merit</td>\n",
       "      <td>160010015</td>\n",
       "      <td>Fire</td>\n",
       "      <td>San Francisco</td>\n",
       "      <td>...</td>\n",
       "      <td>2016-01-01T00:05:52</td>\n",
       "      <td>160010015-E09</td>\n",
       "      <td>9</td>\n",
       "      <td>9</td>\n",
       "      <td>2016-04-25T12:54:45</td>\n",
       "      <td>E09</td>\n",
       "      <td>1</td>\n",
       "      <td>ENGINE</td>\n",
       "      <td>2015-12-31T00:00:00</td>\n",
       "      <td>94110</td>\n",
       "    </tr>\n",
       "    <tr>\n",
       "      <th>3</th>\n",
       "      <td>1600 Block of EUCALYPTUS DR</td>\n",
       "      <td>False</td>\n",
       "      <td>2016-01-01T00:15:04</td>\n",
       "      <td>B08</td>\n",
       "      <td>8815</td>\n",
       "      <td>2016-01-01T00:00:00</td>\n",
       "      <td>Fire</td>\n",
       "      <td>160010018</td>\n",
       "      <td>Alarm</td>\n",
       "      <td>San Francisco</td>\n",
       "      <td>...</td>\n",
       "      <td>2016-01-01T00:07:06</td>\n",
       "      <td>160010018-B08</td>\n",
       "      <td>19</td>\n",
       "      <td>7</td>\n",
       "      <td>2016-04-25T12:54:45</td>\n",
       "      <td>B08</td>\n",
       "      <td>3</td>\n",
       "      <td>CHIEF</td>\n",
       "      <td>2015-12-31T00:00:00</td>\n",
       "      <td>94132</td>\n",
       "    </tr>\n",
       "    <tr>\n",
       "      <th>4</th>\n",
       "      <td>1600 Block of EUCALYPTUS DR</td>\n",
       "      <td>True</td>\n",
       "      <td>2016-01-01T00:15:04</td>\n",
       "      <td>B08</td>\n",
       "      <td>8815</td>\n",
       "      <td>2016-01-01T00:00:00</td>\n",
       "      <td>Fire</td>\n",
       "      <td>160010018</td>\n",
       "      <td>Alarm</td>\n",
       "      <td>San Francisco</td>\n",
       "      <td>...</td>\n",
       "      <td>2016-01-01T00:06:12</td>\n",
       "      <td>160010018-E18</td>\n",
       "      <td>19</td>\n",
       "      <td>7</td>\n",
       "      <td>2016-04-25T12:54:45</td>\n",
       "      <td>E18</td>\n",
       "      <td>2</td>\n",
       "      <td>ENGINE</td>\n",
       "      <td>2015-12-31T00:00:00</td>\n",
       "      <td>94132</td>\n",
       "    </tr>\n",
       "  </tbody>\n",
       "</table>\n",
       "<p>5 rows × 33 columns</p>\n",
       "</div>"
      ],
      "text/plain": [
       "                       address als_unit       available_dttm battalion   box  \\\n",
       "0       600 Block of LAGUNA ST    False  2016-01-01T01:17:47       B02  3413   \n",
       "1       600 Block of LAGUNA ST    False  2016-01-01T00:15:00       B02  3413   \n",
       "2        PRECITA AV/FLORIDA ST     True  2016-01-01T00:12:51       B06  5621   \n",
       "3  1600 Block of EUCALYPTUS DR    False  2016-01-01T00:15:04       B08  8815   \n",
       "4  1600 Block of EUCALYPTUS DR     True  2016-01-01T00:15:04       B08  8815   \n",
       "\n",
       "             call_date call_final_disposition  call_number  \\\n",
       "0  2016-01-01T00:00:00       Code 2 Transport    160010009   \n",
       "1  2016-01-01T00:00:00       Code 2 Transport    160010009   \n",
       "2  2016-01-01T00:00:00               No Merit    160010015   \n",
       "3  2016-01-01T00:00:00                   Fire    160010018   \n",
       "4  2016-01-01T00:00:00                   Fire    160010018   \n",
       "\n",
       "                call_type_group           city         ...          \\\n",
       "0  Potentially Life-Threatening  San Francisco         ...           \n",
       "1  Potentially Life-Threatening  San Francisco         ...           \n",
       "2                          Fire  San Francisco         ...           \n",
       "3                         Alarm  San Francisco         ...           \n",
       "4                         Alarm  San Francisco         ...           \n",
       "\n",
       "         response_dttm           rowid  station_area supervisor_district  \\\n",
       "0  2016-01-01T00:10:30  160010009-KM11            36                   5   \n",
       "1  2016-01-01T00:05:22  160010009-KM06            36                   5   \n",
       "2  2016-01-01T00:05:52   160010015-E09             9                   9   \n",
       "3  2016-01-01T00:07:06   160010018-B08            19                   7   \n",
       "4  2016-01-01T00:06:12   160010018-E18            19                   7   \n",
       "\n",
       "        transport_dttm  unit_id unit_sequence_in_call_dispatch unit_type  \\\n",
       "0  2016-01-01T00:42:14     KM11                              1   PRIVATE   \n",
       "1  2016-04-25T12:54:45     KM06                              2   PRIVATE   \n",
       "2  2016-04-25T12:54:45      E09                              1    ENGINE   \n",
       "3  2016-04-25T12:54:45      B08                              3     CHIEF   \n",
       "4  2016-04-25T12:54:45      E18                              2    ENGINE   \n",
       "\n",
       "            watch_date zipcode_of_incident  \n",
       "0  2015-12-31T00:00:00               94102  \n",
       "1  2015-12-31T00:00:00               94102  \n",
       "2  2015-12-31T00:00:00               94110  \n",
       "3  2015-12-31T00:00:00               94132  \n",
       "4  2015-12-31T00:00:00               94132  \n",
       "\n",
       "[5 rows x 33 columns]"
      ]
     },
     "execution_count": 80,
     "metadata": {},
     "output_type": "execute_result"
    }
   ],
   "source": [
    "df.head()\n"
   ]
  },
  {
   "cell_type": "code",
   "execution_count": 81,
   "metadata": {
    "collapsed": false
   },
   "outputs": [
    {
     "data": {
      "text/plain": [
       "(1000, 33)"
      ]
     },
     "execution_count": 81,
     "metadata": {},
     "output_type": "execute_result"
    }
   ],
   "source": [
    "df.shape  # hmm... so by default the json call is only providing me with 1,000 rows; I'll have to fix that"
   ]
  },
  {
   "cell_type": "code",
   "execution_count": 82,
   "metadata": {
    "collapsed": false
   },
   "outputs": [
    {
     "name": "stdout",
     "output_type": "stream",
     "text": [
      "<class 'pandas.core.frame.DataFrame'>\n",
      "Int64Index: 1000 entries, 0 to 999\n",
      "Data columns (total 33 columns):\n",
      "address                           1000 non-null object\n",
      "als_unit                          1000 non-null bool\n",
      "available_dttm                    1000 non-null object\n",
      "battalion                         1000 non-null object\n",
      "box                               1000 non-null int64\n",
      "call_date                         1000 non-null object\n",
      "call_final_disposition            1000 non-null object\n",
      "call_number                       1000 non-null int64\n",
      "call_type_group                   998 non-null object\n",
      "city                              1000 non-null object\n",
      "dispatch_dttm                     1000 non-null object\n",
      "entry_dttm                        1000 non-null object\n",
      "final_priority                    1000 non-null int64\n",
      "fire_prevention_district          1000 non-null object\n",
      "hospital_dttm                     1000 non-null object\n",
      "incident_number                   1000 non-null int64\n",
      "location                          1000 non-null object\n",
      "neighborhood_district             1000 non-null object\n",
      "number_of_alarms                  1000 non-null int64\n",
      "on_scene_dttm                     1000 non-null object\n",
      "original_priority                 1000 non-null object\n",
      "priority                          1000 non-null object\n",
      "received_dttm                     1000 non-null object\n",
      "response_dttm                     1000 non-null object\n",
      "rowid                             1000 non-null object\n",
      "station_area                      1000 non-null int64\n",
      "supervisor_district               1000 non-null int64\n",
      "transport_dttm                    1000 non-null object\n",
      "unit_id                           1000 non-null object\n",
      "unit_sequence_in_call_dispatch    1000 non-null int64\n",
      "unit_type                         1000 non-null object\n",
      "watch_date                        1000 non-null object\n",
      "zipcode_of_incident               1000 non-null int64\n",
      "dtypes: bool(1), int64(9), object(23)\n",
      "memory usage: 258.8+ KB\n"
     ]
    }
   ],
   "source": [
    "df.info()  # we need to potentially fix all of these \"object\" types to be something specific"
   ]
  },
  {
   "cell_type": "code",
   "execution_count": 83,
   "metadata": {
    "collapsed": false
   },
   "outputs": [
    {
     "data": {
      "text/html": [
       "<div>\n",
       "<table border=\"1\" class=\"dataframe\">\n",
       "  <thead>\n",
       "    <tr style=\"text-align: right;\">\n",
       "      <th></th>\n",
       "      <th>address</th>\n",
       "      <th>available_dttm</th>\n",
       "      <th>battalion</th>\n",
       "      <th>call_date</th>\n",
       "      <th>call_final_disposition</th>\n",
       "      <th>call_type_group</th>\n",
       "      <th>city</th>\n",
       "      <th>dispatch_dttm</th>\n",
       "      <th>entry_dttm</th>\n",
       "      <th>fire_prevention_district</th>\n",
       "      <th>...</th>\n",
       "      <th>on_scene_dttm</th>\n",
       "      <th>original_priority</th>\n",
       "      <th>priority</th>\n",
       "      <th>received_dttm</th>\n",
       "      <th>response_dttm</th>\n",
       "      <th>rowid</th>\n",
       "      <th>transport_dttm</th>\n",
       "      <th>unit_id</th>\n",
       "      <th>unit_type</th>\n",
       "      <th>watch_date</th>\n",
       "    </tr>\n",
       "  </thead>\n",
       "  <tbody>\n",
       "    <tr>\n",
       "      <th>count</th>\n",
       "      <td>1000</td>\n",
       "      <td>1000</td>\n",
       "      <td>1000</td>\n",
       "      <td>1000</td>\n",
       "      <td>1000</td>\n",
       "      <td>998</td>\n",
       "      <td>1000</td>\n",
       "      <td>1000</td>\n",
       "      <td>1000</td>\n",
       "      <td>1000</td>\n",
       "      <td>...</td>\n",
       "      <td>1000</td>\n",
       "      <td>1000</td>\n",
       "      <td>1000</td>\n",
       "      <td>1000</td>\n",
       "      <td>1000</td>\n",
       "      <td>1000</td>\n",
       "      <td>1000</td>\n",
       "      <td>1000</td>\n",
       "      <td>1000</td>\n",
       "      <td>1000</td>\n",
       "    </tr>\n",
       "    <tr>\n",
       "      <th>unique</th>\n",
       "      <td>399</td>\n",
       "      <td>940</td>\n",
       "      <td>11</td>\n",
       "      <td>1</td>\n",
       "      <td>12</td>\n",
       "      <td>4</td>\n",
       "      <td>3</td>\n",
       "      <td>591</td>\n",
       "      <td>448</td>\n",
       "      <td>11</td>\n",
       "      <td>...</td>\n",
       "      <td>772</td>\n",
       "      <td>5</td>\n",
       "      <td>4</td>\n",
       "      <td>446</td>\n",
       "      <td>952</td>\n",
       "      <td>1000</td>\n",
       "      <td>242</td>\n",
       "      <td>156</td>\n",
       "      <td>9</td>\n",
       "      <td>2</td>\n",
       "    </tr>\n",
       "    <tr>\n",
       "      <th>top</th>\n",
       "      <td>5700 Block of MISSION ST</td>\n",
       "      <td>2016-01-01T16:29:55</td>\n",
       "      <td>B03</td>\n",
       "      <td>2016-01-01T00:00:00</td>\n",
       "      <td>Code 2 Transport</td>\n",
       "      <td>Potentially Life-Threatening</td>\n",
       "      <td>San Francisco</td>\n",
       "      <td>2016-01-01T14:21:41</td>\n",
       "      <td>2016-01-01T16:27:41</td>\n",
       "      <td>1</td>\n",
       "      <td>...</td>\n",
       "      <td>2016-04-25T12:54:45</td>\n",
       "      <td>3</td>\n",
       "      <td>3</td>\n",
       "      <td>2016-01-01T16:26:12</td>\n",
       "      <td>2016-04-25T12:54:45</td>\n",
       "      <td>160011278-73</td>\n",
       "      <td>2016-04-25T12:54:45</td>\n",
       "      <td>E03</td>\n",
       "      <td>ENGINE</td>\n",
       "      <td>2015-12-31T00:00:00</td>\n",
       "    </tr>\n",
       "    <tr>\n",
       "      <th>freq</th>\n",
       "      <td>20</td>\n",
       "      <td>10</td>\n",
       "      <td>171</td>\n",
       "      <td>1000</td>\n",
       "      <td>486</td>\n",
       "      <td>445</td>\n",
       "      <td>990</td>\n",
       "      <td>13</td>\n",
       "      <td>20</td>\n",
       "      <td>167</td>\n",
       "      <td>...</td>\n",
       "      <td>148</td>\n",
       "      <td>617</td>\n",
       "      <td>642</td>\n",
       "      <td>20</td>\n",
       "      <td>25</td>\n",
       "      <td>1</td>\n",
       "      <td>502</td>\n",
       "      <td>33</td>\n",
       "      <td>391</td>\n",
       "      <td>521</td>\n",
       "    </tr>\n",
       "  </tbody>\n",
       "</table>\n",
       "<p>4 rows × 23 columns</p>\n",
       "</div>"
      ],
      "text/plain": [
       "                         address       available_dttm battalion  \\\n",
       "count                       1000                 1000      1000   \n",
       "unique                       399                  940        11   \n",
       "top     5700 Block of MISSION ST  2016-01-01T16:29:55       B03   \n",
       "freq                          20                   10       171   \n",
       "\n",
       "                  call_date call_final_disposition  \\\n",
       "count                  1000                   1000   \n",
       "unique                    1                     12   \n",
       "top     2016-01-01T00:00:00       Code 2 Transport   \n",
       "freq                   1000                    486   \n",
       "\n",
       "                     call_type_group           city        dispatch_dttm  \\\n",
       "count                            998           1000                 1000   \n",
       "unique                             4              3                  591   \n",
       "top     Potentially Life-Threatening  San Francisco  2016-01-01T14:21:41   \n",
       "freq                             445            990                   13   \n",
       "\n",
       "                 entry_dttm fire_prevention_district         ...           \\\n",
       "count                  1000                     1000         ...            \n",
       "unique                  448                       11         ...            \n",
       "top     2016-01-01T16:27:41                        1         ...            \n",
       "freq                     20                      167         ...            \n",
       "\n",
       "              on_scene_dttm original_priority priority        received_dttm  \\\n",
       "count                  1000              1000     1000                 1000   \n",
       "unique                  772                 5        4                  446   \n",
       "top     2016-04-25T12:54:45                 3        3  2016-01-01T16:26:12   \n",
       "freq                    148               617      642                   20   \n",
       "\n",
       "              response_dttm         rowid       transport_dttm unit_id  \\\n",
       "count                  1000          1000                 1000    1000   \n",
       "unique                  952          1000                  242     156   \n",
       "top     2016-04-25T12:54:45  160011278-73  2016-04-25T12:54:45     E03   \n",
       "freq                     25             1                  502      33   \n",
       "\n",
       "       unit_type           watch_date  \n",
       "count       1000                 1000  \n",
       "unique         9                    2  \n",
       "top       ENGINE  2015-12-31T00:00:00  \n",
       "freq         391                  521  \n",
       "\n",
       "[4 rows x 23 columns]"
      ]
     },
     "execution_count": 83,
     "metadata": {},
     "output_type": "execute_result"
    }
   ],
   "source": [
    "df.describe(include=['O'])  # let's look at the types of object data\n"
   ]
  },
  {
   "cell_type": "code",
   "execution_count": 84,
   "metadata": {
    "collapsed": false
   },
   "outputs": [
    {
     "name": "stdout",
     "output_type": "stream",
     "text": [
      "2016-01-01T00:00:00 2016-01-01T00:00:00\n"
     ]
    }
   ],
   "source": [
    "print(df.call_date.min(), df.call_date.max())  # this shows the min and max values in terms of dates. One day!"
   ]
  },
  {
   "cell_type": "code",
   "execution_count": 85,
   "metadata": {
    "collapsed": false
   },
   "outputs": [
    {
     "name": "stdout",
     "output_type": "stream",
     "text": [
      "address\n",
      "als_unit\n",
      "available_dttm\n",
      "battalion\n",
      "box\n",
      "call_date\n",
      "call_final_disposition\n",
      "call_number\n",
      "call_type_group\n",
      "city\n",
      "dispatch_dttm\n",
      "entry_dttm\n",
      "final_priority\n",
      "fire_prevention_district\n",
      "hospital_dttm\n",
      "incident_number\n",
      "location\n",
      "neighborhood_district\n",
      "number_of_alarms\n",
      "on_scene_dttm\n",
      "original_priority\n",
      "priority\n",
      "received_dttm\n",
      "response_dttm\n",
      "rowid\n",
      "station_area\n",
      "supervisor_district\n",
      "transport_dttm\n",
      "unit_id\n",
      "unit_sequence_in_call_dispatch\n",
      "unit_type\n",
      "watch_date\n",
      "zipcode_of_incident\n"
     ]
    }
   ],
   "source": [
    "for c in df.columns:\n",
    "    print(c)"
   ]
  },
  {
   "cell_type": "code",
   "execution_count": 86,
   "metadata": {
    "collapsed": false
   },
   "outputs": [
    {
     "data": {
      "text/plain": [
       "1       167\n",
       "3       158\n",
       "2       144\n",
       "5        96\n",
       "7        92\n",
       "6        86\n",
       "4        75\n",
       "9        70\n",
       "10       51\n",
       "8        47\n",
       "None     14\n",
       "Name: fire_prevention_district, dtype: int64"
      ]
     },
     "execution_count": 86,
     "metadata": {},
     "output_type": "execute_result"
    }
   ],
   "source": [
    "# What is this fire prevention district about?\n",
    "df.fire_prevention_district.value_counts(dropna=False)"
   ]
  },
  {
   "cell_type": "code",
   "execution_count": 87,
   "metadata": {
    "collapsed": false
   },
   "outputs": [
    {
     "data": {
      "text/plain": [
       "Potentially Life-Threatening    445\n",
       "Non Life-threatening            270\n",
       "Alarm                           212\n",
       "Fire                             71\n",
       "NaN                               2\n",
       "Name: call_type_group, dtype: int64"
      ]
     },
     "execution_count": 87,
     "metadata": {},
     "output_type": "execute_result"
    }
   ],
   "source": [
    "df.call_type_group.value_counts(dropna=False)  # curious to see what the call types are"
   ]
  },
  {
   "cell_type": "code",
   "execution_count": 88,
   "metadata": {
    "collapsed": false
   },
   "outputs": [
    {
     "data": {
      "text/plain": [
       "Code 2 Transport              486\n",
       "Fire                          268\n",
       "No Merit                       64\n",
       "Patient Declined Transport     58\n",
       "SFPD                           23\n",
       "Cancelled                      22\n",
       "Other                          18\n",
       "Code 3 Transport               16\n",
       "Medical Examiner               16\n",
       "Unable to Locate               13\n",
       "Against Medical Advice         12\n",
       "Gone on Arrival                 4\n",
       "Name: call_final_disposition, dtype: int64"
      ]
     },
     "execution_count": 88,
     "metadata": {},
     "output_type": "execute_result"
    }
   ],
   "source": [
    "df.call_final_disposition.value_counts(dropna=False)"
   ]
  },
  {
   "cell_type": "code",
   "execution_count": 89,
   "metadata": {
    "collapsed": true
   },
   "outputs": [],
   "source": [
    "# now let's try to grab a different url based on the API docs for S\n",
    "# https://dev.socrata.com/docs/filtering.html\n",
    "# df = pd.read_json('https://data.sfgov.org/resource/kikm-y2iv.json?call_final_disposition=Fire&$limit=1000&$offset=0&$order=:id')\n",
    "df = pd.read_json('https://data.sfgov.org/resource/kikm-y2iv.json?call_final_disposition=Fire&$limit=1000&$offset=0&$order=received_dttm')"
   ]
  },
  {
   "cell_type": "code",
   "execution_count": 90,
   "metadata": {
    "collapsed": false
   },
   "outputs": [
    {
     "data": {
      "text/plain": [
       "Alarm                           769\n",
       "Fire                            182\n",
       "Non Life-threatening             34\n",
       "Potentially Life-Threatening      9\n",
       "NaN                               6\n",
       "Name: call_type_group, dtype: int64"
      ]
     },
     "execution_count": 90,
     "metadata": {},
     "output_type": "execute_result"
    }
   ],
   "source": [
    "df.call_type_group.value_counts(dropna=False)"
   ]
  },
  {
   "cell_type": "code",
   "execution_count": 91,
   "metadata": {
    "collapsed": false
   },
   "outputs": [
    {
     "data": {
      "text/plain": [
       "Fire    1000\n",
       "Name: call_final_disposition, dtype: int64"
      ]
     },
     "execution_count": 91,
     "metadata": {},
     "output_type": "execute_result"
    }
   ],
   "source": [
    "df.call_final_disposition.value_counts(dropna=False)"
   ]
  },
  {
   "cell_type": "code",
   "execution_count": 96,
   "metadata": {
    "collapsed": false
   },
   "outputs": [
    {
     "name": "stdout",
     "output_type": "stream",
     "text": [
      "2016-01-01T00:00:00 2016-01-04T00:00:00\n"
     ]
    }
   ],
   "source": [
    "# confirm we have different timestamps than before\n",
    "print(df.call_date.min(), df.call_date.max())  # a little bit of a bigger window, nice!"
   ]
  },
  {
   "cell_type": "code",
   "execution_count": 127,
   "metadata": {
    "collapsed": true
   },
   "outputs": [],
   "source": [
    "# now we'll just experiment with the offset to see what we get, preferably a second page of results\n",
    "df2 = pd.read_json('https://data.sfgov.org/resource/kikm-y2iv.json?$order=received_dttm&call_final_disposition=Fire&$offset=5')\n",
    "#                      https://data.sfgov.org/resource/enhu-st7v.json"
   ]
  },
  {
   "cell_type": "code",
   "execution_count": 128,
   "metadata": {
    "collapsed": false
   },
   "outputs": [
    {
     "name": "stdout",
     "output_type": "stream",
     "text": [
      "2016-01-01T00:35:02 2016-01-04T15:53:36\n"
     ]
    }
   ],
   "source": [
    "print(df2.received_dttm.min(), df2.received_dttm.max())  # a little bit of a bigger window, nice!\n",
    "# by offset:\n",
    "# 0 2016-01-01T00:03:02 2016-01-04T15:36:16\n",
    "# 1 2016-01-01T00:03:02 2016-01-04T15:36:16\n",
    "# 2 2016-01-01T00:03:02 2016-01-04T15:44:38\n",
    "# 3 2016-01-01T00:35:02 2016-01-04T15:53:36\n",
    "# 4 2016-01-01T00:35:02 2016-01-04T15:53:36"
   ]
  },
  {
   "cell_type": "code",
   "execution_count": 134,
   "metadata": {
    "collapsed": false
   },
   "outputs": [],
   "source": [
    "# hmmm... it appears I'm missing something where the correct data is not getting returned\n",
    "# I'll want to open a ticket with Socrates regarding pagination\n",
    "# in the meantime let me try a different url for access the data to see if that improves things:\n",
    "# sorted_url = \"https://data.sfgov.org/Public-Safety/FD-CFS-sorted-by-earliest-received-date/sg7s-kczx\"\n",
    "df = pd.read_json(\"https://data.sfgov.org/resource/sg7s-kczx.json?$order=received_dttm&$offset=0\")\n"
   ]
  },
  {
   "cell_type": "code",
   "execution_count": 135,
   "metadata": {
    "collapsed": false
   },
   "outputs": [
    {
     "name": "stdout",
     "output_type": "stream",
     "text": [
      "2000-04-12T21:00:29 2000-04-14T12:49:56\n"
     ]
    }
   ],
   "source": [
    "print(df.received_dttm.min(), df.received_dttm.max())  # a little bit of a bigger window, nice!"
   ]
  },
  {
   "cell_type": "code",
   "execution_count": 174,
   "metadata": {
    "collapsed": false
   },
   "outputs": [],
   "source": [
    "# actually, I have here a set of data that is more fire-specific, that I think is better to use\n",
    "# but it's not sorted\n",
    "# https://data.sfgov.org/resource/wbb6-uh78.json\n",
    "df = pd.read_json('https://data.sfgov.org/resource/wbb6-uh78.json?$order=incident_number&$offset=4')\n"
   ]
  },
  {
   "cell_type": "code",
   "execution_count": 175,
   "metadata": {
    "collapsed": false
   },
   "outputs": [
    {
     "name": "stdout",
     "output_type": "stream",
     "text": [
      "3000014\n",
      "3003149\n"
     ]
    }
   ],
   "source": [
    "print(df.incident_number.min())\n",
    "print(df.incident_number.max())\n",
    "# offset\n",
    "# 0 3000001 3003135\n",
    "# 1 3000003 3003136\n",
    "# 2 3000006 3003139\n",
    "# 3 3000007 3003143\n"
   ]
  },
  {
   "cell_type": "code",
   "execution_count": 163,
   "metadata": {
    "collapsed": false
   },
   "outputs": [
    {
     "name": "stdout",
     "output_type": "stream",
     "text": [
      "2003-01-07T02:55:22.000 2015-06-20T02:44:56.000\n"
     ]
    }
   ],
   "source": [
    "print(df.alarm_dttm.min(), df.alarm_dttm.max())  # a little bit of a bigger window, nice!\n",
    "# 0 2003-01-07T02:55:22.000 2015-06-20T02:44:56.000\n",
    "# 1 2003-01-01T00:07:32.000 2003-01-11T07:49:30.000\n",
    "# 200 2003-01-02T18:28:53.000 2003-01-13T12:05:02.000\n",
    "\n"
   ]
  },
  {
   "cell_type": "code",
   "execution_count": null,
   "metadata": {
    "collapsed": true
   },
   "outputs": [],
   "source": []
  }
 ],
 "metadata": {
  "kernelspec": {
   "display_name": "Python 2",
   "language": "python",
   "name": "python2"
  },
  "language_info": {
   "codemirror_mode": {
    "name": "ipython",
    "version": 2
   },
   "file_extension": ".py",
   "mimetype": "text/x-python",
   "name": "python",
   "nbconvert_exporter": "python",
   "pygments_lexer": "ipython2",
   "version": "2.7.10"
  }
 },
 "nbformat": 4,
 "nbformat_minor": 0
}
